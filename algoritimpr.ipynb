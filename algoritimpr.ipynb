{
 "cells": [
  {
   "cell_type": "markdown",
   "metadata": {},
   "source": [
    "## 인풋 받기!"
   ]
  },
  {
   "cell_type": "code",
   "execution_count": 14,
   "metadata": {},
   "outputs": [
    {
     "name": "stdout",
     "output_type": "stream",
     "text": [
      "10\n"
     ]
    }
   ],
   "source": [
    "N = int(input(\"\"))\n",
    "print(N)"
   ]
  },
  {
   "cell_type": "code",
   "execution_count": 15,
   "metadata": {},
   "outputs": [
    {
     "name": "stdout",
     "output_type": "stream",
     "text": [
      "30\n"
     ]
    }
   ],
   "source": [
    "N, M = map(int, input().split(\" \"))\n",
    "print(N+M)"
   ]
  },
  {
   "cell_type": "code",
   "execution_count": 16,
   "metadata": {},
   "outputs": [],
   "source": [
    "N, M = map(int, input().split(\" \"))"
   ]
  },
  {
   "cell_type": "code",
   "execution_count": 17,
   "metadata": {},
   "outputs": [
    {
     "data": {
      "text/plain": [
       "['10', '20', '30', '']"
      ]
     },
     "execution_count": 17,
     "metadata": {},
     "output_type": "execute_result"
    }
   ],
   "source": [
    "\"10 20 30\".split(\" \")\n",
    "\"10,20,30\".split(\",\")\n",
    "\"10,20,30,\".split(\",\")\n",
    "\"10 20 30 \".split(\" \")\n",
    "#각 문자열을 리스트로써 구분하기 위해 split을 사용한다."
   ]
  },
  {
   "cell_type": "code",
   "execution_count": 19,
   "metadata": {},
   "outputs": [
    {
     "data": {
      "text/plain": [
       "['10', '20', '30']"
      ]
     },
     "execution_count": 19,
     "metadata": {},
     "output_type": "execute_result"
    }
   ],
   "source": [
    "\"10 20 30 \".strip().split(\" \") #비어있는 부분을 없애기 위해 strio()를 사용한다."
   ]
  },
  {
   "cell_type": "code",
   "execution_count": 21,
   "metadata": {},
   "outputs": [
    {
     "data": {
      "text/plain": [
       "<map at 0x1fed0a00a60>"
      ]
     },
     "execution_count": 21,
     "metadata": {},
     "output_type": "execute_result"
    }
   ],
   "source": [
    "arr = [\"10\",\"20\",\"30\"]\n",
    "map(int,arr)\n"
   ]
  },
  {
   "cell_type": "code",
   "execution_count": 22,
   "metadata": {},
   "outputs": [
    {
     "name": "stdout",
     "output_type": "stream",
     "text": [
      "7\n"
     ]
    }
   ],
   "source": [
    "A, B = map(int, input().strip().split(\" \"))\n",
    "if 0 < A and B < 10:\n",
    "    print(A+B)\n"
   ]
  },
  {
   "cell_type": "markdown",
   "metadata": {},
   "source": [
    "# MAP을 활용한 배열문제 풀이들들"
   ]
  },
  {
   "cell_type": "code",
   "execution_count": null,
   "metadata": {},
   "outputs": [
    {
     "ename": "ValueError",
     "evalue": "invalid literal for int() with base 10: 'Escaoe'",
     "output_type": "error",
     "traceback": [
      "\u001b[1;31m---------------------------------------------------------------------------\u001b[0m",
      "\u001b[1;31mValueError\u001b[0m                                Traceback (most recent call last)",
      "Cell \u001b[1;32mIn[30], line 1\u001b[0m\n\u001b[1;32m----> 1\u001b[0m N, X \u001b[38;5;241m=\u001b[39m \u001b[38;5;28mmap\u001b[39m(\u001b[38;5;28mint\u001b[39m, \u001b[38;5;28minput\u001b[39m()\u001b[38;5;241m.\u001b[39mstrip()\u001b[38;5;241m.\u001b[39msplit(\u001b[38;5;124m\"\u001b[39m\u001b[38;5;124m \u001b[39m\u001b[38;5;124m\"\u001b[39m))\n\u001b[0;32m      2\u001b[0m \u001b[38;5;28;01mfor\u001b[39;00m i \u001b[38;5;129;01min\u001b[39;00m \u001b[38;5;28mrange\u001b[39m(N):\n\u001b[0;32m      3\u001b[0m     \u001b[38;5;28;01mif\u001b[39;00m \u001b[38;5;241m0\u001b[39m \u001b[38;5;241m<\u001b[39m\u001b[38;5;241m=\u001b[39m i \u001b[38;5;241m<\u001b[39m\u001b[38;5;241m=\u001b[39m \u001b[38;5;241m10000\u001b[39m:\n",
      "\u001b[1;31mValueError\u001b[0m: invalid literal for int() with base 10: 'Escaoe'"
     ]
    }
   ],
   "source": [
    "N, X = map(int, input().strip().split(\" \"))\n",
    "A = list(map(int, input().split(\" \")))\n",
    "for i in range(N):\n",
    "        if A[i] < X:\n",
    "            print(A[i], end=\" \")\n"
   ]
  },
  {
   "cell_type": "code",
   "execution_count": null,
   "metadata": {},
   "outputs": [],
   "source": [
    "import sys\n",
    "N = int(input())\n",
    "for i in range(N):\n",
    "    A, B = list(map(int, sys.stdin.readline().split(\" \")))\n",
    "    print(A+B)"
   ]
  },
  {
   "cell_type": "code",
   "execution_count": 33,
   "metadata": {},
   "outputs": [
    {
     "name": "stdout",
     "output_type": "stream",
     "text": [
      "3\n"
     ]
    }
   ],
   "source": [
    "N = int(input())\n",
    "A = list(map(int, input().split(\" \")))\n",
    "V = int(input())\n",
    "B = 0\n",
    "for i in range(N):\n",
    "    if A[i] == V:\n",
    "        B += 1\n",
    "print(B)"
   ]
  },
  {
   "cell_type": "code",
   "execution_count": 37,
   "metadata": {},
   "outputs": [
    {
     "ename": "ValueError",
     "evalue": "invalid literal for int() with base 10: '3 1 4 5 7 9 6 10 11 12 13 14 15 16 17 18 19 20 21 22 23 24 25 26 27 28 29 30'",
     "output_type": "error",
     "traceback": [
      "\u001b[1;31m---------------------------------------------------------------------------\u001b[0m",
      "\u001b[1;31mValueError\u001b[0m                                Traceback (most recent call last)",
      "Cell \u001b[1;32mIn[37], line 3\u001b[0m\n\u001b[0;32m      1\u001b[0m N \u001b[38;5;241m=\u001b[39m \u001b[38;5;28mint\u001b[39m(\u001b[38;5;28minput\u001b[39m())\n\u001b[0;32m      2\u001b[0m \u001b[38;5;28;01mfor\u001b[39;00m i \u001b[38;5;129;01min\u001b[39;00m \u001b[38;5;28mrange\u001b[39m(N\u001b[38;5;241m-\u001b[39m\u001b[38;5;241m2\u001b[39m):\n\u001b[1;32m----> 3\u001b[0m         A \u001b[38;5;241m=\u001b[39m \u001b[38;5;28;43mint\u001b[39;49m\u001b[43m(\u001b[49m\u001b[38;5;28;43minput\u001b[39;49m\u001b[43m(\u001b[49m\u001b[43m)\u001b[49m\u001b[43m)\u001b[49m\n\u001b[0;32m      4\u001b[0m         N\u001b[38;5;241m.\u001b[39mremove(A)\n\u001b[0;32m      5\u001b[0m \u001b[38;5;28mprint\u001b[39m(\u001b[38;5;28mmin\u001b[39m(N))\n",
      "\u001b[1;31mValueError\u001b[0m: invalid literal for int() with base 10: '3 1 4 5 7 9 6 10 11 12 13 14 15 16 17 18 19 20 21 22 23 24 25 26 27 28 29 30'"
     ]
    }
   ],
   "source": [
    "N = int(input())\n",
    "for i in range(N-2):\n",
    "        A = int(input())\n",
    "        N.remove(A)\n",
    "print(min(N))\n",
    "print(max(N))\n",
    "\n",
    "       "
   ]
  },
  {
   "cell_type": "code",
   "execution_count": 39,
   "metadata": {},
   "outputs": [
    {
     "data": {
      "text/plain": [
       "[2, 3, 4, 5, 6, 7]"
      ]
     },
     "execution_count": 39,
     "metadata": {},
     "output_type": "execute_result"
    }
   ],
   "source": [
    "def made(number):    \n",
    "    N = []\n",
    "    for i in range(len(number)):\n",
    "        for j in range(i+1, len(number)):\n",
    "            N.append(number[i] + number[j])\n",
    "    \n",
    "    N = sorted(set(N))\n",
    "    return N\n",
    "\n",
    "made([2,1,3,4,1])"
   ]
  },
  {
   "cell_type": "code",
   "execution_count": null,
   "metadata": {},
   "outputs": [],
   "source": [
    "def num(number):\n",
    "    N = list(set(number))\n",
    "    N.sort(reverse=True)\n",
    "\n",
    "    return N\n"
   ]
  },
  {
   "cell_type": "code",
   "execution_count": 4,
   "metadata": {},
   "outputs": [
    {
     "data": {
      "text/plain": [
       "5.5"
      ]
     },
     "execution_count": 4,
     "metadata": {},
     "output_type": "execute_result"
    }
   ],
   "source": [
    "def solution(numbers):\n",
    "    a = 0\n",
    "    for i in numbers:\n",
    "        a += i\n",
    "    a = a / len(numbers)\n",
    "    return a\n",
    "solution([1, 2, 3, 4, 5, 6, 7, 8, 9, 10])"
   ]
  },
  {
   "cell_type": "code",
   "execution_count": 6,
   "metadata": {},
   "outputs": [
    {
     "data": {
      "text/plain": [
       "2"
      ]
     },
     "execution_count": 6,
     "metadata": {},
     "output_type": "execute_result"
    }
   ],
   "source": [
    "def solution(slice, N):\n",
    "    a = N//slice\n",
    "    if N%slice != 0:\n",
    "        a += 1\n",
    "    return a\n",
    "\n",
    "solution(7, 10)\n"
   ]
  },
  {
   "cell_type": "code",
   "execution_count": 8,
   "metadata": {},
   "outputs": [
    {
     "data": {
      "text/plain": [
       "2"
      ]
     },
     "execution_count": 8,
     "metadata": {},
     "output_type": "execute_result"
    }
   ],
   "source": [
    "def solution(lines):\n",
    "    a = [set(range(min(i), max(i))) for i  in lines]\n",
    "    return len(a[0] & a[1] | a[0] & a[2] | a[1] & a[2])\n",
    "\n",
    "solution([[0, 1], [2, 5], [3, 9]])"
   ]
  },
  {
   "cell_type": "code",
   "execution_count": null,
   "metadata": {},
   "outputs": [],
   "source": [
    "def solution(N):\n",
    "    a = 0\n",
    "    for i in N:\n",
    "        a += i\n",
    "    return a\n",
    "\n"
   ]
  },
  {
   "cell_type": "code",
   "execution_count": null,
   "metadata": {},
   "outputs": [],
   "source": [
    "def solution(N):\n",
    "    a = N[0]\n",
    "    for i in N:\n",
    "        if a < i :\n",
    "            a = i\n",
    "        return a\n",
    "    "
   ]
  },
  {
   "cell_type": "code",
   "execution_count": null,
   "metadata": {},
   "outputs": [],
   "source": [
    "def solution(N,M):\n",
    "    for i in range(len(N)):\n",
    "        if N[i] == M:\n",
    "            return i\n",
    "    return -1\n",
    "   \n"
   ]
  },
  {
   "cell_type": "code",
   "execution_count": 9,
   "metadata": {},
   "outputs": [
    {
     "data": {
      "text/plain": [
       "[1, 2, 3, 4, 5]"
      ]
     },
     "execution_count": 9,
     "metadata": {},
     "output_type": "execute_result"
    }
   ],
   "source": [
    "def solution(N):\n",
    "    M = list(set(N))\n",
    "    return M\n",
    "solution([1, 2, 2, 3, 4, 4, 5])"
   ]
  },
  {
   "cell_type": "code",
   "execution_count": 22,
   "metadata": {},
   "outputs": [
    {
     "data": {
      "text/plain": [
       "[1]"
      ]
     },
     "execution_count": 22,
     "metadata": {},
     "output_type": "execute_result"
    }
   ],
   "source": [
    "def solution(answers):\n",
    "    patterns = [[1,2,3,4,5] ,[2,1,2,3,2,4,2,5],[3,3,1,1,2,2,4,4,5,5]]\n",
    "    score = [0]*3\n",
    "    for i, answer in enumerate(answers):\n",
    "        for j, pattern in enumerate(patterns):\n",
    "            if answer == pattern[i%len(pattern)]:\n",
    "                score[j] += 1\n",
    " \n",
    "    max_score = max(score)\n",
    "    h_score = []\n",
    "    for i, score in enumerate(score):\n",
    "        if score == max_score:\n",
    "            h_score.append(i+1)\n",
    "    return h_score\n",
    "solution([1,2,3,4,5])     "
   ]
  },
  {
   "cell_type": "code",
   "execution_count": 1,
   "metadata": {},
   "outputs": [
    {
     "data": {
      "text/plain": [
       "[1]"
      ]
     },
     "execution_count": 1,
     "metadata": {},
     "output_type": "execute_result"
    }
   ],
   "source": [
    "def solution(answer):\n",
    "    patterns = [[1,2,3,4,5],[2,1,2,3,2,4,2,5],[3,3,1,1,2,2,4,4,5,5]]\n",
    "    score = [0]*3\n",
    "    for i in range(len(answer)):\n",
    "        for j in range(3):\n",
    "            if answer[i] == patterns[j][i%len(patterns[j])]:\n",
    "                score[j] += 1\n",
    "    max_score = max(score)\n",
    "    h_score = []\n",
    "    for i in range(3):\n",
    "        if score[i] == max_score:\n",
    "            h_score.append(i+1)\n",
    "    return h_score\n",
    "solution([1,2,3,4,5])\n"
   ]
  },
  {
   "cell_type": "code",
   "execution_count": 3,
   "metadata": {},
   "outputs": [
    {
     "data": {
      "text/plain": [
       "[[15, 15], [15, 15], [15, 15]]"
      ]
     },
     "execution_count": 3,
     "metadata": {},
     "output_type": "execute_result"
    }
   ],
   "source": [
    "def solution(arr1, arr2):\n",
    "    r0, c0 = len(arr1), len(arr1[0])\n",
    "    r1, c1 = len(arr2), len(arr2[0])\n",
    "    answer = [[0]*c1 for _ in range(r0)]\n",
    "    for i in range(r0):\n",
    "        for j in range(c1):\n",
    "            for k in range(c0):\n",
    "                answer[i][j] += arr1[i][k]*arr2[k][j]\n",
    "    return answer\n"
   ]
  },
  {
   "cell_type": "code",
   "execution_count": null,
   "metadata": {},
   "outputs": [],
   "source": [
    "def solution(A, B):\n",
    "    return [[sum(a*b for a,b in zip(A_row, B_col)) for B_col in zip(*B)] for A_row in A]\n",
    "#zip(*B) 행렬 B의 열을 행으로 바꾸어준다.\n",
    "#zip(A_row, B_col) A_row와 B_col의 각 요소를 곱해준다.\n",
    "# sum(a*b for a,b in zip(A_row, B_col)) 각 요소를 더해준다.\n",
    "\n",
    " \n",
    "    "
   ]
  },
  {
   "cell_type": "code",
   "execution_count": 5,
   "metadata": {},
   "outputs": [
    {
     "data": {
      "text/plain": [
       "[3, 4, 2, 1, 5]"
      ]
     },
     "execution_count": 5,
     "metadata": {},
     "output_type": "execute_result"
    }
   ],
   "source": [
    "#스테이지 개수 N\n",
    "#실패율 = 스테이지에 도달했으나 클리어 못한 플레이어 수 / 스테이지에 도달한 플레이어 수\n",
    "def solution(N, stages):\n",
    "    answer = []\n",
    "    lent = len(stages)\n",
    "    for i in range(1, N+1):\n",
    "        counts = stages.count(i)\n",
    "        if lent == 0:\n",
    "            fail = 0\n",
    "        else:\n",
    "            fail = counts / lent #실패율\n",
    "        answer.append((i, fail)) # 스테이지 번호와 실패율을 튜플로 묶어준다.\n",
    "        lent -= counts # 실패율을 계산하기 위해 실패한 플레이어 수를 빼준다.\n",
    "    answer = sorted(answer, key=lambda x: x[1], reverse= True) # 실패율을 기준으로 내림차순 정렬\n",
    "    answer = [i[0] for i in answer] # 스테이지 번호만 리스트에 담아준다.\n",
    "    return answer\n",
    "solution(5, [2, 1, 2, 6, 2, 4, 3, 3])"
   ]
  },
  {
   "cell_type": "code",
   "execution_count": 6,
   "metadata": {},
   "outputs": [
    {
     "name": "stdout",
     "output_type": "stream",
     "text": [
      "<\n"
     ]
    }
   ],
   "source": [
    "print('Hello, World!')\n"
   ]
  },
  {
   "cell_type": "code",
   "execution_count": 9,
   "metadata": {},
   "outputs": [
    {
     "name": "stdout",
     "output_type": "stream",
     "text": [
      "2*1 = 2\n",
      "2*2 = 4\n",
      "2*3 = 6\n",
      "2*4 = 8\n",
      "2*5 = 10\n",
      "2*6 = 12\n",
      "2*7 = 14\n",
      "2*8 = 16\n",
      "2*9 = 18\n"
     ]
    }
   ],
   "source": [
    "A = int(input())\n",
    "for i in range(1,10):\n",
    "    print(f'{A} * {i} = {A*i}' , end='\\n'  )\n"
   ]
  },
  {
   "cell_type": "code",
   "execution_count": null,
   "metadata": {},
   "outputs": [
    {
     "name": "stdout",
     "output_type": "stream",
     "text": [
      "f\n"
     ]
    }
   ],
   "source": [
    "a = input()\n",
    "b = int(input())\n",
    "if <=\n",
    "print(a[b])\n"
   ]
  },
  {
   "cell_type": "code",
   "execution_count": null,
   "metadata": {},
   "outputs": [],
   "source": [
    "a = input()\n",
    "b = int(input())\n",
    "if 0<= b < len(a)\n",
    "    print(a[b])\n",
    "else:\n",
    "    print(\"out of index\")"
   ]
  },
  {
   "cell_type": "code",
   "execution_count": 13,
   "metadata": {},
   "outputs": [
    {
     "name": "stdout",
     "output_type": "stream",
     "text": [
      "60466175\n"
     ]
    }
   ],
   "source": [
    "a = input()\n",
    "b = int(input())\n",
    "print(int(a,b))\n",
    "\n"
   ]
  },
  {
   "cell_type": "code",
   "execution_count": 18,
   "metadata": {},
   "outputs": [],
   "source": [
    "a, b = map(int, input().split())\n",
    "if a == 0 or b == 0:\n",
    "    pass\n",
    "elif b//a == 0:\n",
    "    print('murtiple')\n",
    "elif b%a == 0:\n",
    "    print('factor')\n",
    "else:\n",
    "    print('neither')"
   ]
  },
  {
   "cell_type": "code",
   "execution_count": null,
   "metadata": {},
   "outputs": [
    {
     "ename": "ZeroDivisionError",
     "evalue": "integer division or modulo by zero",
     "output_type": "error",
     "traceback": [
      "\u001b[1;31m---------------------------------------------------------------------------\u001b[0m",
      "\u001b[1;31mZeroDivisionError\u001b[0m                         Traceback (most recent call last)",
      "Cell \u001b[1;32mIn[19], line 2\u001b[0m\n\u001b[0;32m      1\u001b[0m a, b \u001b[38;5;241m=\u001b[39m \u001b[38;5;28mmap\u001b[39m(\u001b[38;5;28mint\u001b[39m, \u001b[38;5;28minput\u001b[39m()\u001b[38;5;241m.\u001b[39msplit())\n\u001b[1;32m----> 2\u001b[0m \u001b[38;5;28;01mif\u001b[39;00m \u001b[43mb\u001b[49m\u001b[38;5;241;43m/\u001b[39;49m\u001b[38;5;241;43m/\u001b[39;49m\u001b[43ma\u001b[49m \u001b[38;5;241m==\u001b[39m \u001b[38;5;241m0\u001b[39m:\n\u001b[0;32m      3\u001b[0m     \u001b[38;5;28mprint\u001b[39m(\u001b[38;5;124m'\u001b[39m\u001b[38;5;124mmurtiple\u001b[39m\u001b[38;5;124m'\u001b[39m)\n\u001b[0;32m      4\u001b[0m \u001b[38;5;28;01melif\u001b[39;00m b\u001b[38;5;241m%\u001b[39ma \u001b[38;5;241m==\u001b[39m \u001b[38;5;241m0\u001b[39m:\n",
      "\u001b[1;31mZeroDivisionError\u001b[0m: integer division or modulo by zero"
     ]
    }
   ],
   "source": [
    "while True:\n",
    "    a, b = map(int, input().split())\n",
    "    if a == 0 and b == 0:\n",
    "        break\n",
    "    elif b//a == 0:\n",
    "        print('murtiple')\n",
    "    elif b%a == 0:\n",
    "        print('factor')\n",
    "    else:\n",
    "        print('neither')"
   ]
  },
  {
   "cell_type": "code",
   "execution_count": null,
   "metadata": {},
   "outputs": [],
   "source": []
  },
  {
   "cell_type": "code",
   "execution_count": null,
   "metadata": {},
   "outputs": [],
   "source": [
    "scores = ['A+','A','B+','B','C+','C','D+','D','F']\n",
    "grade = [4.5, 4.0, 3.5, 3.0, 2.5, 2.0, 1.5, 1.0, 0.0]\n",
    "total = 0\n",
    "score = 0\n",
    "for i in range(20):\n",
    "        s , c , g = input().split()   \n",
    "        if g != 'P': \n",
    "            total += int(c)\n",
    "            score += int(c) * grade[scores.index(g)]\n",
    "print(format(score/total, \".6f\"))\n",
    "\n"
   ]
  },
  {
   "cell_type": "code",
   "execution_count": null,
   "metadata": {},
   "outputs": [],
   "source": []
  },
  {
   "cell_type": "code",
   "execution_count": null,
   "metadata": {},
   "outputs": [
    {
     "ename": "ValueError",
     "evalue": "not enough values to unpack (expected 3, got 0)",
     "output_type": "error",
     "traceback": [
      "\u001b[1;31m---------------------------------------------------------------------------\u001b[0m",
      "\u001b[1;31mValueError\u001b[0m                                Traceback (most recent call last)",
      "Cell \u001b[1;32mIn[4], line 6\u001b[0m\n\u001b[0;32m      4\u001b[0m score \u001b[38;5;241m=\u001b[39m \u001b[38;5;241m0\u001b[39m\n\u001b[0;32m      5\u001b[0m \u001b[38;5;28;01mfor\u001b[39;00m _ \u001b[38;5;129;01min\u001b[39;00m \u001b[38;5;28mrange\u001b[39m(\u001b[38;5;241m20\u001b[39m):\n\u001b[1;32m----> 6\u001b[0m   sco , cre , goa \u001b[38;5;241m=\u001b[39m \u001b[38;5;28minput\u001b[39m()\u001b[38;5;241m.\u001b[39msplit()\n\u001b[0;32m      7\u001b[0m   cre \u001b[38;5;241m=\u001b[39m \u001b[38;5;28mfloat\u001b[39m(cre)\n\u001b[0;32m      8\u001b[0m   \u001b[38;5;28;01mif\u001b[39;00m goa \u001b[38;5;241m!=\u001b[39m \u001b[38;5;124m'\u001b[39m\u001b[38;5;124mP\u001b[39m\u001b[38;5;124m'\u001b[39m: \n",
      "\u001b[1;31mValueError\u001b[0m: not enough values to unpack (expected 3, got 0)"
     ]
    }
   ],
   "source": [
    "scores = ['A+','A','B+','B','C+','C','D+','D','F']\n",
    "grade = [4.5, 4.0, 3.5, 3.0, 2.5, 2.0, 1.5, 1.0, 0.0]\n",
    "total = 0\n",
    "score = 0\n",
    "for _ in range(20):\n",
    "  sco, cre, goa = input().split()\n",
    "  cre = float(cre)\n",
    "  if goa != 'P': \n",
    "    total += cre\n",
    "    score += cre * grade[scores.index(goa)]\n",
    "print(format(score/total, \".6f\"))\n"
   ]
  },
  {
   "cell_type": "code",
   "execution_count": null,
   "metadata": {},
   "outputs": [],
   "source": [
    "score = {'A+': 4.5, 'A0': 4.0, 'B+': 3.5, \n",
    "         'B0': 3.0, 'C+': 2.5, 'C0': 2.0,\n",
    "         'D+': 1.5, 'D0': 1.0, 'F':0.0}\n",
    "average = 0\n",
    "totall = 0\n",
    "\n",
    "for i in range(20):\n",
    "  lecture, credit, grade = input().split() \n",
    "  if grade =='P':\n",
    "    continue\n",
    "  else:\n",
    "    average += float(credit)*score[grade]\n",
    "    totall +=float(credit)\n",
    "    \n",
    "print(average/totall)"
   ]
  },
  {
   "cell_type": "code",
   "execution_count": null,
   "metadata": {},
   "outputs": [],
   "source": []
  },
  {
   "cell_type": "code",
   "execution_count": 11,
   "metadata": {},
   "outputs": [
    {
     "name": "stdout",
     "output_type": "stream",
     "text": [
      "4\n"
     ]
    }
   ],
   "source": [
    "def solution(steps):\n",
    "    a = [0,0]\n",
    "    b = []\n",
    "    for k in steps:\n",
    "        if a[0] == 5 or a[0] == -5 or a[1] == 5 or a[1] == -5:\n",
    "            continue\n",
    "        elif k == 'U':\n",
    "            a[1] += 1\n",
    "            b += a\n",
    "        elif k == 'D':\n",
    "            a[1] -= 1\n",
    "            b += a\n",
    "        elif k == 'R':\n",
    "            a[0] += 1\n",
    "            b += a\n",
    "        elif k == 'L':\n",
    "            a[0] -= 1\n",
    "            b += a\n",
    "        else:\n",
    "            break\n",
    "    print(len(set(b)))\n",
    "\n",
    "solution('ULURRDLLU')\n",
    "        \n"
   ]
  },
  {
   "cell_type": "code",
   "execution_count": 26,
   "metadata": {},
   "outputs": [
    {
     "name": "stdout",
     "output_type": "stream",
     "text": [
      "7\n"
     ]
    }
   ],
   "source": [
    "def solution(steps):\n",
    "    a = [0,0]\n",
    "    b = set()\n",
    "    b.add(tuple(a))\n",
    "    for k in steps:\n",
    "        if a[0] == 5 or a[0] == -5 or a[1] == 5 or a[1] == -5:\n",
    "            continue\n",
    "        elif k == 'U':\n",
    "            a[1] += 1\n",
    "        elif k == 'D':\n",
    "            a[1] -= 1\n",
    "        elif k == 'R':\n",
    "            a[0] += 1\n",
    "        elif k == 'L':\n",
    "            a[0] -= 1\n",
    "        else:\n",
    "            break\n",
    "        b.add(tuple(a))\n",
    "    b_list = [list(i) for i in b]\n",
    "    c = print(len(b_list))\n",
    "    return c\n",
    "\n",
    "solution('ULURRDLLU')"
   ]
  },
  {
   "cell_type": "code",
   "execution_count": 27,
   "metadata": {},
   "outputs": [
    {
     "data": {
      "text/plain": [
       "7"
      ]
     },
     "execution_count": 27,
     "metadata": {},
     "output_type": "execute_result"
    }
   ],
   "source": [
    "def step(steps):\n",
    "    x, y = 0, 0\n",
    "    visited = set()\n",
    "    for k in steps:\n",
    "        if k == 'U':\n",
    "            nx, ny = x, y + 1 \n",
    "        elif k == 'D':\n",
    "            nx, ny = x, y - 1\n",
    "        elif k == 'R':\n",
    "            nx, ny = x + 1, y \n",
    "        elif k == 'L':\n",
    "            nx, ny = x -1 , y\n",
    "        if -5 <= nx <= 5 and -6 <= ny <= 6:\n",
    "            visited.add((x,y,nx,ny)) \n",
    "            visited.add((nx,ny,x,y))\n",
    "            x, y = nx, ny\n",
    "    return len(visited)//2\n",
    "step('ULURRDLLU')"
   ]
  },
  {
   "cell_type": "code",
   "execution_count": 3,
   "metadata": {},
   "outputs": [
    {
     "name": "stdout",
     "output_type": "stream",
     "text": [
      "[6, 5, 4, 2, 1]\n"
     ]
    }
   ],
   "source": [
    "num_list = [1,2,4,6,5]\n",
    "answer = []\n",
    "answer = sorted(num_list, reverse= True)\n",
    "print(answer)"
   ]
  },
  {
   "cell_type": "code",
   "execution_count": 10,
   "metadata": {},
   "outputs": [
    {
     "name": "stdout",
     "output_type": "stream",
     "text": [
      "[6, 5, 4, 3, 2, 1, 0]\n"
     ]
    }
   ],
   "source": [
    "answer = []\n",
    "for i in range(7):\n",
    "    k = 6 - i\n",
    "    answer.append(k)\n",
    "print(answer)"
   ]
  },
  {
   "cell_type": "code",
   "execution_count": 18,
   "metadata": {},
   "outputs": [
    {
     "data": {
      "text/plain": [
       "[1, 0, 1, 1, 1, 3, 5]"
      ]
     },
     "execution_count": 18,
     "metadata": {},
     "output_type": "execute_result"
    }
   ],
   "source": [
    "def solution(num_list):\n",
    "    answer = []\n",
    "    for i in range(len(num_list)):\n",
    "        k = len(num_list) - (i+1)\n",
    "        answer.append(num_list[k])\n",
    "    return answer\n",
    "solution([5, 3, 1, 1, 1, 0, 1])"
   ]
  },
  {
   "cell_type": "code",
   "execution_count": 14,
   "metadata": {},
   "outputs": [
    {
     "ename": "TypeError",
     "evalue": "'list' object is not callable",
     "output_type": "error",
     "traceback": [
      "\u001b[1;31m---------------------------------------------------------------------------\u001b[0m",
      "\u001b[1;31mTypeError\u001b[0m                                 Traceback (most recent call last)",
      "Cell \u001b[1;32mIn[14], line 2\u001b[0m\n\u001b[0;32m      1\u001b[0m answer \u001b[38;5;241m=\u001b[39m [\u001b[38;5;241m5\u001b[39m, \u001b[38;5;241m3\u001b[39m, \u001b[38;5;241m1\u001b[39m, \u001b[38;5;241m1\u001b[39m, \u001b[38;5;241m1\u001b[39m, \u001b[38;5;241m0\u001b[39m, \u001b[38;5;241m1\u001b[39m]\n\u001b[1;32m----> 2\u001b[0m \u001b[38;5;28mprint\u001b[39m(\u001b[43manswer\u001b[49m\u001b[43m(\u001b[49m\u001b[38;5;241;43m2\u001b[39;49m\u001b[43m)\u001b[49m)\n",
      "\u001b[1;31mTypeError\u001b[0m: 'list' object is not callable"
     ]
    }
   ],
   "source": []
  },
  {
   "cell_type": "code",
   "execution_count": 21,
   "metadata": {},
   "outputs": [
    {
     "data": {
      "text/plain": [
       "[1, 0, 1, 1, 1, 3, 5]"
      ]
     },
     "execution_count": 21,
     "metadata": {},
     "output_type": "execute_result"
    }
   ],
   "source": [
    "def solution(num_list):\n",
    "    return num_list[::-1]\n",
    "solution([5, 3, 1, 1, 1, 0, 1])"
   ]
  },
  {
   "cell_type": "code",
   "execution_count": 27,
   "metadata": {},
   "outputs": [],
   "source": [
    "def solution(num_list):\n",
    "    answer = []\n",
    "    answer = num_list\n",
    "    return answer.reverse()\n",
    "solution([5, 3, 1, 1, 1, 0, 1])"
   ]
  },
  {
   "cell_type": "code",
   "execution_count": null,
   "metadata": {},
   "outputs": [],
   "source": [
    "num_list = [5, 3, 1, 1, 1, 0, 1]\n",
    "num_list.reverse()"
   ]
  },
  {
   "cell_type": "code",
   "execution_count": null,
   "metadata": {},
   "outputs": [],
   "source": []
  },
  {
   "cell_type": "code",
   "execution_count": 48,
   "metadata": {},
   "outputs": [
    {
     "ename": "IndexError",
     "evalue": "list index out of range",
     "output_type": "error",
     "traceback": [
      "\u001b[1;31m---------------------------------------------------------------------------\u001b[0m",
      "\u001b[1;31mIndexError\u001b[0m                                Traceback (most recent call last)",
      "Cell \u001b[1;32mIn[48], line 12\u001b[0m\n\u001b[0;32m      9\u001b[0m                 answer3\u001b[38;5;241m.\u001b[39mappend(answer2[k])\n\u001b[0;32m     10\u001b[0m     \u001b[38;5;28;01mreturn\u001b[39;00m answer3\n\u001b[1;32m---> 12\u001b[0m \u001b[43msolution\u001b[49m\u001b[43m(\u001b[49m\u001b[38;5;241;43m3\u001b[39;49m\u001b[43m,\u001b[49m\u001b[38;5;241;43m2\u001b[39;49m\u001b[43m,\u001b[49m\u001b[38;5;241;43m5\u001b[39;49m\u001b[43m)\u001b[49m\n",
      "Cell \u001b[1;32mIn[48], line 9\u001b[0m, in \u001b[0;36msolution\u001b[1;34m(n, left, right)\u001b[0m\n\u001b[0;32m      7\u001b[0m         answer2\u001b[38;5;241m.\u001b[39mappend(answer[i][j])\n\u001b[0;32m      8\u001b[0m         \u001b[38;5;28;01mfor\u001b[39;00m k \u001b[38;5;129;01min\u001b[39;00m \u001b[38;5;28mrange\u001b[39m(left,right\u001b[38;5;241m+\u001b[39m\u001b[38;5;241m1\u001b[39m):\n\u001b[1;32m----> 9\u001b[0m             answer3\u001b[38;5;241m.\u001b[39mappend(\u001b[43manswer2\u001b[49m\u001b[43m[\u001b[49m\u001b[43mk\u001b[49m\u001b[43m]\u001b[49m)\n\u001b[0;32m     10\u001b[0m \u001b[38;5;28;01mreturn\u001b[39;00m answer3\n",
      "\u001b[1;31mIndexError\u001b[0m: list index out of range"
     ]
    }
   ],
   "source": [
    "def solution(n, left, right):\n",
    "    answer2 = []\n",
    "    answer3 = []\n",
    "    for i in range(n+1):\n",
    "        answer.append([i]*i)\n",
    "        for j in range(len(answer[i])):\n",
    "            answer2.append(answer[i][j])\n",
    "            for k in range(left,right+1):\n",
    "                answer3.append(answer2[k])\n",
    "    return answer3\n",
    "\n",
    "solution(3,2,5)"
   ]
  },
  {
   "cell_type": "code",
   "execution_count": 59,
   "metadata": {},
   "outputs": [
    {
     "name": "stdout",
     "output_type": "stream",
     "text": [
      "[2]\n"
     ]
    }
   ],
   "source": [
    "answer = [4//4 +1]\n",
    "print(answer)"
   ]
  },
  {
   "cell_type": "code",
   "execution_count": 70,
   "metadata": {},
   "outputs": [
    {
     "data": {
      "text/plain": [
       "[3, 2, 2, 3]"
      ]
     },
     "execution_count": 70,
     "metadata": {},
     "output_type": "execute_result"
    }
   ],
   "source": [
    "def solution(n, left, right):\n",
    "    answer = []\n",
    "    for i in range(left, right+1):\n",
    "        answer.append(max(i//n,i%n)+1)\n",
    "    return answer\n",
    "solution(3,2,5)"
   ]
  },
  {
   "cell_type": "code",
   "execution_count": null,
   "metadata": {},
   "outputs": [],
   "source": [
    "1234 2234 3334 4444"
   ]
  },
  {
   "cell_type": "code",
   "execution_count": 75,
   "metadata": {},
   "outputs": [
    {
     "name": "stdout",
     "output_type": "stream",
     "text": [
      "0000100 0101110 1111111 0101110 0000100\n",
      "\n",
      "eoacsE\n",
      "epacsE\n",
      "\n"
     ]
    }
   ],
   "source": [
    "N, M  = map(int, input().split(\" \"))\n",
    "for _ in range(N):\n",
    "    print(input()[::-1])\n",
    "    \n",
    "\n",
    "\n",
    "\n",
    "        "
   ]
  },
  {
   "cell_type": "code",
   "execution_count": 78,
   "metadata": {},
   "outputs": [
    {
     "name": "stdout",
     "output_type": "stream",
     "text": [
      "0000100 0101110 1111111 0101110 0000100\n",
      "0000100 0101110 1111111 0101110 0000100\n",
      "0000100 0101110 1111111 0101110 0000100\n",
      "\n",
      "\n"
     ]
    }
   ],
   "source": [
    "N, M  = map(int, input().split(\" \"))\n",
    "for i in range(N):\n",
    "    A = input()\n",
    "    print(A[::-1])"
   ]
  },
  {
   "cell_type": "code",
   "execution_count": null,
   "metadata": {},
   "outputs": [],
   "source": []
  },
  {
   "cell_type": "code",
   "execution_count": 24,
   "metadata": {},
   "outputs": [
    {
     "data": {
      "text/plain": [
       "[-1]"
      ]
     },
     "execution_count": 24,
     "metadata": {},
     "output_type": "execute_result"
    }
   ],
   "source": [
    "def solution(arr, divisor):\n",
    "    answer = sorted(i for i in arr if i%divisor == 0)\n",
    "    return answer if answer else [-1]\n",
    "solution([10,2,6],11)"
   ]
  },
  {
   "cell_type": "code",
   "execution_count": 11,
   "metadata": {},
   "outputs": [
    {
     "name": "stdout",
     "output_type": "stream",
     "text": [
      "0\n"
     ]
    }
   ],
   "source": [
    "answer = list(filter(i%divisor == 0,arr[i]))"
   ]
  },
  {
   "cell_type": "code",
   "execution_count": 8,
   "metadata": {},
   "outputs": [
    {
     "data": {
      "text/plain": [
       "(10, 8)"
      ]
     },
     "execution_count": 8,
     "metadata": {},
     "output_type": "execute_result"
    }
   ],
   "source": [
    "def solution(numer1, denom1, numer2, denom2):\n",
    "    answer = []\n",
    "    a = numer1 * denom2 + numer2 * denom1\n",
    "    b = denom1 * denom2\n",
    "    return a, b\n",
    "solution(1,2,3,4)"
   ]
  },
  {
   "cell_type": "code",
   "execution_count": 12,
   "metadata": {},
   "outputs": [
    {
     "data": {
      "text/plain": [
       "[5, 4]"
      ]
     },
     "execution_count": 12,
     "metadata": {},
     "output_type": "execute_result"
    }
   ],
   "source": [
    "def solution(numer1, denom1, numer2, denom2):\n",
    "    a = numer1 * denom2 + numer2 * denom1\n",
    "    b = denom1 * denom2\n",
    "    answer = []\n",
    "    for i in range(min(a,b), 0 , -1):\n",
    "        if (a%i == 0) and (b%i == 0):\n",
    "            answer.append(int(a/i))\n",
    "            answer.append(int(b/i))\n",
    "            break\n",
    "    return answer\n",
    "\n",
    "solution(1,2,3,4)"
   ]
  },
  {
   "cell_type": "code",
   "execution_count": 22,
   "metadata": {},
   "outputs": [
    {
     "data": {
      "text/plain": [
       "'수박수박수박수'"
      ]
     },
     "execution_count": 22,
     "metadata": {},
     "output_type": "execute_result"
    }
   ],
   "source": [
    "def solution(n):\n",
    "    if n%2 == 0:\n",
    "        answer = '수박'*(int(n/2))\n",
    "    else:\n",
    "        answer = '수'+ '박수'*(int(n//2))\n",
    "    return answer\n",
    "solution(7)"
   ]
  },
  {
   "cell_type": "code",
   "execution_count": 11,
   "metadata": {},
   "outputs": [
    {
     "name": "stdout",
     "output_type": "stream",
     "text": [
      "1 40\n"
     ]
    }
   ],
   "source": [
    "a, b = map(int, input().split(\" \"))\n",
    "c = int(input())\n",
    "if (b+c)//60 != 0:\n",
    "    a = a + (b+c)//60\n",
    "    b = (b + c)%60\n",
    "    if a//24 == 1:\n",
    "        a = a%24\n",
    "else:\n",
    "    b += c\n",
    "print(f'{a} {b}')\n"
   ]
  },
  {
   "cell_type": "code",
   "execution_count": 16,
   "metadata": {},
   "outputs": [
    {
     "name": "stdout",
     "output_type": "stream",
     "text": [
      "7 35\n"
     ]
    }
   ],
   "source": [
    "N = int(input())\n",
    "a = list(map(int, input().split(\" \")))\n",
    "print(f'{min(a)} {max(a)}')"
   ]
  },
  {
   "cell_type": "code",
   "execution_count": 76,
   "metadata": {},
   "outputs": [
    {
     "name": "stdout",
     "output_type": "stream",
     "text": [
      "3 4 1 2 5\n"
     ]
    }
   ],
   "source": [
    "N, M = map(int, input().split(\" \"))\n",
    "A = []\n",
    "B = []\n",
    "for i in range(1,N+1):\n",
    "        A.append(i)\n",
    "for j in range(M):\n",
    "    a, b = map(int, input().split(\" \"))\n",
    "    B = A[a-1:b]\n",
    "    B.reverse()\n",
    "    A[a-1:b] = B\n",
    "print(*A)\n",
    "\n"
   ]
  },
  {
   "cell_type": "code",
   "execution_count": 72,
   "metadata": {},
   "outputs": [
    {
     "name": "stdout",
     "output_type": "stream",
     "text": [
      "1\n",
      "2\n",
      "3\n",
      "4\n",
      "5\n"
     ]
    }
   ],
   "source": [
    "for i in range(1,6):\n",
    "    print(i)"
   ]
  },
  {
   "cell_type": "code",
   "execution_count": 75,
   "metadata": {},
   "outputs": [
    {
     "name": "stdout",
     "output_type": "stream",
     "text": [
      "<generator object <genexpr> at 0x000002DECF39DD80>\n"
     ]
    }
   ],
   "source": [
    "A = [1,2,3,4,5]\n",
    "print(A[i] for i in range(len(A)))"
   ]
  },
  {
   "cell_type": "code",
   "execution_count": null,
   "metadata": {},
   "outputs": [
    {
     "name": "stdout",
     "output_type": "stream",
     "text": [
      "15\n"
     ]
    }
   ],
   "source": [
    "a = list(map(int,input().split(\" \")))\n",
    "b = 0\n",
    "for i in a:\n",
    "    if 0<= i <=100:\n",
    "        b += i\n",
    "print(b)\n"
   ]
  },
  {
   "cell_type": "code",
   "execution_count": 1,
   "metadata": {},
   "outputs": [
    {
     "ename": "ValueError",
     "evalue": "invalid literal for int() with base 10: ''",
     "output_type": "error",
     "traceback": [
      "\u001b[1;31m---------------------------------------------------------------------------\u001b[0m",
      "\u001b[1;31mValueError\u001b[0m                                Traceback (most recent call last)",
      "Cell \u001b[1;32mIn[1], line 1\u001b[0m\n\u001b[1;32m----> 1\u001b[0m N, M \u001b[38;5;241m=\u001b[39m \u001b[38;5;28mmap\u001b[39m(\u001b[38;5;28mint\u001b[39m, \u001b[38;5;28minput\u001b[39m()\u001b[38;5;241m.\u001b[39msplit(\u001b[38;5;124m\"\u001b[39m\u001b[38;5;124m \u001b[39m\u001b[38;5;124m\"\u001b[39m))\n\u001b[0;32m      2\u001b[0m A \u001b[38;5;241m=\u001b[39m N\u001b[38;5;241m*\u001b[39mM \u001b[38;5;241m-\u001b[39m\u001b[38;5;241m1\u001b[39m\n\u001b[0;32m      3\u001b[0m \u001b[38;5;28mprint\u001b[39m(A)\n",
      "\u001b[1;31mValueError\u001b[0m: invalid literal for int() with base 10: ''"
     ]
    }
   ],
   "source": [
    "N, M = map(int, input().split(\" \"))\n",
    "A = N*M -1\n",
    "print(A)"
   ]
  },
  {
   "cell_type": "code",
   "execution_count": 8,
   "metadata": {},
   "outputs": [
    {
     "name": "stdout",
     "output_type": "stream",
     "text": [
      "15\n"
     ]
    }
   ],
   "source": [
    "a = list(map(int,input().split(\" \")))\n",
    "b = 0\n",
    "for i in a:\n",
    "        b += i\n",
    "print(b)"
   ]
  },
  {
   "cell_type": "code",
   "execution_count": null,
   "metadata": {},
   "outputs": [
    {
     "name": "stdout",
     "output_type": "stream",
     "text": [
      "284 2\n"
     ]
    }
   ],
   "source": [
    "a = int(input())\n",
    "c = [[]]*2\n",
    "sum = 0\n",
    "for i in range(a):\n",
    "    b = list(map(int,input().split(\" \")))\n",
    "    for j in range(len(b)):\n",
    "        if b[j]%2 == 0:\n",
    "            c[i].append(b[j])\n",
    "    for k in c[i]:\n",
    "        sum += int(k)\n",
    "\n",
    "    print(sum, min(c[i]))\n"
   ]
  },
  {
   "cell_type": "code",
   "execution_count": 37,
   "metadata": {},
   "outputs": [
    {
     "name": "stdout",
     "output_type": "stream",
     "text": [
      "12 2\n",
      "260 42\n"
     ]
    }
   ],
   "source": [
    "a = int(input())\n",
    "c = []\n",
    "sum = 0\n",
    "for _ in range(a):\n",
    "    b = list(map(int,input().split(\" \")))\n",
    "    for j in range(len(b)):\n",
    "        if b[j]%2 == 0:\n",
    "            c.append(b[j])\n",
    "    for k in c:\n",
    "        sum += int(k)\n",
    "    print(sum, min(c))\n",
    "    c = []\n",
    "    sum = 0\n",
    "    "
   ]
  },
  {
   "cell_type": "code",
   "execution_count": null,
   "metadata": {},
   "outputs": [],
   "source": [
    "3\n",
    "29\n",
    "38\n",
    "12\n",
    "57\n",
    "74\n",
    "40\n",
    "85\n",
    "61"
   ]
  },
  {
   "cell_type": "code",
   "execution_count": 11,
   "metadata": {},
   "outputs": [
    {
     "name": "stdout",
     "output_type": "stream",
     "text": [
      "85\n",
      "7\n"
     ]
    }
   ],
   "source": [
    "a = []\n",
    "for i in range(9):\n",
    "    b = int(input())\n",
    "    a.append(b)\n",
    "print(max(a))\n",
    "print(a.index(max(a))+1)\n"
   ]
  },
  {
   "cell_type": "code",
   "execution_count": 13,
   "metadata": {},
   "outputs": [
    {
     "name": "stdout",
     "output_type": "stream",
     "text": [
      "10\n",
      "4\n",
      "21\n",
      "2\n",
      "1\n"
     ]
    }
   ],
   "source": [
    "N, M = map(int, input().split(\" \"))\n",
    "print(f'{N+M}\\n{N-M}\\n{N*M}\\n{int(N/M)}\\n{N%M}')"
   ]
  },
  {
   "cell_type": "code",
   "execution_count": 22,
   "metadata": {},
   "outputs": [
    {
     "name": "stdout",
     "output_type": "stream",
     "text": [
      "1\n"
     ]
    }
   ],
   "source": [
    "a = int(input())\n",
    "if (a%4 == 0 and a%100 != 0):\n",
    "    print(1)\n",
    "elif a%400 == 0:\n",
    "    print(1)\n",
    "else:\n",
    "    print(0)"
   ]
  },
  {
   "cell_type": "code",
   "execution_count": null,
   "metadata": {},
   "outputs": [
    {
     "name": "stdout",
     "output_type": "stream",
     "text": [
      "1\n"
     ]
    }
   ],
   "source": [
    "a = int(input())\n",
    "print(1 if (a%4 == 0 and a%100 != 0) else(1 if a%400 == 9 else 0 ))"
   ]
  },
  {
   "cell_type": "code",
   "execution_count": null,
   "metadata": {},
   "outputs": [
    {
     "name": "stdout",
     "output_type": "stream",
     "text": [
      "03\n"
     ]
    },
    {
     "ename": "IndexError",
     "evalue": "string index out of range",
     "output_type": "error",
     "traceback": [
      "\u001b[1;31m---------------------------------------------------------------------------\u001b[0m",
      "\u001b[1;31mIndexError\u001b[0m                                Traceback (most recent call last)",
      "Cell \u001b[1;32mIn[29], line 11\u001b[0m\n\u001b[0;32m      9\u001b[0m b[j]\u001b[38;5;241m.\u001b[39mappend(A)\n\u001b[0;32m     10\u001b[0m \u001b[38;5;28;01mfor\u001b[39;00m k \u001b[38;5;129;01min\u001b[39;00m \u001b[38;5;28mrange\u001b[39m(M):\n\u001b[1;32m---> 11\u001b[0m     \u001b[38;5;28mprint\u001b[39m(\u001b[43mA\u001b[49m\u001b[43m[\u001b[49m\u001b[43mj\u001b[49m\u001b[43m]\u001b[49m\u001b[43m[\u001b[49m\u001b[43mk\u001b[49m\u001b[43m]\u001b[49m\u001b[38;5;241m+\u001b[39mB[j][k] , end \u001b[38;5;241m=\u001b[39m\u001b[38;5;124m\"\u001b[39m\u001b[38;5;130;01m\\n\u001b[39;00m\u001b[38;5;124m\"\u001b[39m)\n",
      "\u001b[1;31mIndexError\u001b[0m: string index out of range"
     ]
    }
   ],
   "source": [
    "N, M = map(int, input().split())\n",
    "for i in range(N*2):\n",
    "    A = input().split(\" \")\n",
    "    a[i].append(A)\n",
    "for k in range(M):\n",
    "    print(A[j][k]+B[j][k] , end =\"\\n\")\n",
    "\n"
   ]
  },
  {
   "cell_type": "code",
   "execution_count": 24,
   "metadata": {},
   "outputs": [
    {
     "name": "stdout",
     "output_type": "stream",
     "text": [
      "[[], [], []]\n"
     ]
    }
   ],
   "source": [
    "a = [[]]*3\n",
    "print(a)"
   ]
  },
  {
   "cell_type": "code",
   "execution_count": null,
   "metadata": {},
   "outputs": [],
   "source": [
    "1 1 1\n",
    "2 2 2\n",
    "0 1 0\n",
    "3 3 3\n",
    "4 4 4\n",
    "5 5 100"
   ]
  },
  {
   "cell_type": "code",
   "execution_count": 69,
   "metadata": {},
   "outputs": [
    {
     "ename": "ValueError",
     "evalue": "too many values to unpack (expected 2)",
     "output_type": "error",
     "traceback": [
      "\u001b[1;31m---------------------------------------------------------------------------\u001b[0m",
      "\u001b[1;31mValueError\u001b[0m                                Traceback (most recent call last)",
      "Cell \u001b[1;32mIn[69], line 1\u001b[0m\n\u001b[1;32m----> 1\u001b[0m N, M \u001b[38;5;241m=\u001b[39m \u001b[38;5;28mmap\u001b[39m(\u001b[38;5;28mint\u001b[39m, \u001b[38;5;28minput\u001b[39m()\u001b[38;5;241m.\u001b[39msplit())\n\u001b[0;32m      2\u001b[0m a \u001b[38;5;241m=\u001b[39m []\n\u001b[0;32m      3\u001b[0m b \u001b[38;5;241m=\u001b[39m []\n",
      "\u001b[1;31mValueError\u001b[0m: too many values to unpack (expected 2)"
     ]
    }
   ],
   "source": [
    "N, M = map(int, input().split())\n",
    "a = []\n",
    "b = []\n",
    "for i in range(N*2):\n",
    "    A = list(map(int, input().split(\" \")))\n",
    "    a.append(A)\n",
    "for k in range(N):\n",
    "    for j in range(M):\n",
    "        b.append(int(a[k][j]+a[k+N][j]))\n",
    "    print(*b)\n",
    "    b = []"
   ]
  },
  {
   "cell_type": "code",
   "execution_count": 42,
   "metadata": {},
   "outputs": [
    {
     "name": "stdout",
     "output_type": "stream",
     "text": [
      "[[1, 1], [2, 2], [3, 3], [4, 4]]\n"
     ]
    }
   ],
   "source": [
    "N, M = map(int, input().split())\n",
    "a = []\n",
    "b = []\n",
    "for i in range(N*2):\n",
    "    A = list(map(int, input().split(\" \")))\n",
    "    a.append(A)\n",
    "print(a)"
   ]
  },
  {
   "cell_type": "code",
   "execution_count": null,
   "metadata": {},
   "outputs": [],
   "source": [
    "3 23 85 34 17 74 25 52 65\n",
    "10 7 39 42 88 52 14 72 63\n",
    "87 42 18 78 53 45 18 84 53\n",
    "34 28 64 85 12 16 75 36 55\n",
    "21 77 45 35 28 75 90 76 1\n",
    "25 87 65 15 28 11 37 28 74\n",
    "65 27 75 41 7 89 78 64 39\n",
    "47 47 70 45 23 65 3 41 44\n",
    "87 13 82 38 31 12 29 29 80"
   ]
  },
  {
   "cell_type": "code",
   "execution_count": null,
   "metadata": {},
   "outputs": [
    {
     "name": "stdout",
     "output_type": "stream",
     "text": [
      "90\n",
      "4 6\n"
     ]
    }
   ],
   "source": [
    "b = []\n",
    "C = []\n",
    "for i in range(9):\n",
    "    A = list(map(int, input().split(\" \")))\n",
    "    b.append(A)\n",
    "for j in range(len(b)):\n",
    "    C.append(max(b[j]))\n",
    "print(max(C))\n",
    "c = C.index(max(C))\n",
    "print(c+1, b[c].index(max(C))+1)\n",
    "    "
   ]
  },
  {
   "cell_type": "code",
   "execution_count": 5,
   "metadata": {},
   "outputs": [
    {
     "name": "stdout",
     "output_type": "stream",
     "text": [
      "0\n"
     ]
    }
   ],
   "source": [
    "a = [[1,2],[3,4]]\n",
    "print(a[1].index(3))"
   ]
  },
  {
   "cell_type": "code",
   "execution_count": null,
   "metadata": {},
   "outputs": [
    {
     "name": "stdout",
     "output_type": "stream",
     "text": [
      "[[3, 7], [15, 7], [5, 2]]\n",
      "[{3, 4, 5, 6, 7, 8, 9, 10, 11, 12}, {15, 16, 17, 18, 19, 20, 21, 22, 23, 24}, {5, 6, 7, 8, 9, 10, 11, 12, 13, 14}]\n",
      "[{7, 8, 9, 10, 11, 12, 13, 14, 15, 16}, {7, 8, 9, 10, 11, 12, 13, 14, 15, 16}, {2, 3, 4, 5, 6, 7, 8, 9, 10, 11}]\n"
     ]
    }
   ],
   "source": [
    "N = int(input())\n",
    "a = []\n",
    "for i in range(N):\n",
    "    A = list(map(int, input().split(\" \")))\n",
    "    a.append(A)\n",
    "b = [set(range(j[0],j[0]+11)) for j in a]\n",
    "c = [set(range(k[1],k[1]+11)) for k in a]\n"
   ]
  },
  {
   "cell_type": "code",
   "execution_count": 7,
   "metadata": {},
   "outputs": [
    {
     "name": "stdout",
     "output_type": "stream",
     "text": [
      "[{0}, {2, 3, 4}, {3, 4, 5, 6, 7, 8}]\n"
     ]
    },
    {
     "data": {
      "text/plain": [
       "2"
      ]
     },
     "execution_count": 7,
     "metadata": {},
     "output_type": "execute_result"
    }
   ],
   "source": [
    "def solution(lines):\n",
    "    a = [set(range(min(i), max(i))) for i  in lines]\n",
    "    print(a)\n",
    "    return len(a[0] & a[1] | a[0] & a[2] | a[1] & a[2])\n",
    "\n",
    "solution([[0, 1], [2, 5], [3, 9]])"
   ]
  },
  {
   "cell_type": "code",
   "execution_count": 3,
   "metadata": {},
   "outputs": [
    {
     "ename": "SyntaxError",
     "evalue": "invalid syntax (1081152809.py, line 1)",
     "output_type": "error",
     "traceback": [
      "\u001b[1;36m  Cell \u001b[1;32mIn[3], line 1\u001b[1;36m\u001b[0m\n\u001b[1;33m    git remote -v\u001b[0m\n\u001b[1;37m        ^\u001b[0m\n\u001b[1;31mSyntaxError\u001b[0m\u001b[1;31m:\u001b[0m invalid syntax\n"
     ]
    }
   ],
   "source": []
  },
  {
   "cell_type": "code",
   "execution_count": null,
   "metadata": {},
   "outputs": [],
   "source": []
  },
  {
   "cell_type": "markdown",
   "metadata": {},
   "source": [
    "# 스택"
   ]
  },
  {
   "cell_type": "code",
   "execution_count": 5,
   "metadata": {},
   "outputs": [
    {
     "data": {
      "text/plain": [
       "True"
      ]
     },
     "execution_count": 5,
     "metadata": {},
     "output_type": "execute_result"
    }
   ],
   "source": [
    "def solution(s):\n",
    "    stack = []\n",
    "    for c in s:\n",
    "        if c == \"(\" :\n",
    "            stack.append(c)\n",
    "        elif c == \")\":\n",
    "            if not stack:\n",
    "                return False\n",
    "            else:\n",
    "                stack.pop()\n",
    "    if stack:\n",
    "        return False\n",
    "    else:\n",
    "        return True\n",
    "        \n",
    "\n",
    "solution(['(',')',\"(\",\")\"])"
   ]
  },
  {
   "cell_type": "code",
   "execution_count": 6,
   "metadata": {},
   "outputs": [
    {
     "name": "stdout",
     "output_type": "stream",
     "text": [
      "1010\n"
     ]
    }
   ],
   "source": [
    "def solution(s):\n",
    "    answer = []\n",
    "\n",
    "    while True:\n",
    "\n",
    "        if s%2 == 0:\n",
    "            answer.append(0)\n",
    "            s = s//2\n",
    "\n",
    "        elif s%2 == 1:\n",
    "            answer.append(1)\n",
    "            s = s//2 \n",
    "        if s == 0:\n",
    "            print(*answer[::-1], sep = '')\n",
    "            break\n",
    "solution(10)\n",
    "        \n"
   ]
  },
  {
   "cell_type": "code",
   "execution_count": 61,
   "metadata": {},
   "outputs": [
    {
     "data": {
      "text/plain": [
       "1"
      ]
     },
     "execution_count": 61,
     "metadata": {},
     "output_type": "execute_result"
    }
   ],
   "source": [
    "def solution(s):\n",
    "    a = 0\n",
    "    for i in range(len(s)):\n",
    "        stack = []\n",
    "        for _ in range(len(s)):\n",
    "            s = list(s)\n",
    "            s.append(s[0])\n",
    "            s.pop(0)\n",
    "            for c in s:\n",
    "                if c == \"(\" or c == \"[\" or c == \"{\":\n",
    "                    stack.append(c)\n",
    "                else:\n",
    "                    if not stack:\n",
    "                        break\n",
    "\n",
    "                    if stack[0] == \"(\" and c == \")\":\n",
    "                        stack.pop()\n",
    "                    elif stack[0] == \"[\" and c == \"]\":\n",
    "                        stack.pop()\n",
    "                    elif stack[0] == \"{\" and c == \"}\":\n",
    "                        stack.pop()\n",
    "                    else:\n",
    "                        break                    \n",
    "            if not stack:\n",
    "                a += 1\n",
    "        return a\n",
    "        \n",
    "\n",
    "solution(\"[)(]\")"
   ]
  },
  {
   "cell_type": "code",
   "execution_count": 16,
   "metadata": {},
   "outputs": [
    {
     "name": "stdout",
     "output_type": "stream",
     "text": [
      "6\n",
      "(\n",
      ")\n",
      "(\n",
      ")\n",
      "(\n",
      ")\n"
     ]
    }
   ],
   "source": [
    "s = \"()()()\"\n",
    "for j in range(len(s)):\n",
    "    \n",
    "    for c in s:\n",
    "        print(c)"
   ]
  },
  {
   "cell_type": "code",
   "execution_count": 50,
   "metadata": {},
   "outputs": [
    {
     "name": "stdout",
     "output_type": "stream",
     "text": [
      "[]\n",
      "['(']\n",
      "[]\n",
      "['{']\n",
      "[]\n",
      "['[']\n",
      "0\n"
     ]
    }
   ],
   "source": [
    "stack = []\n",
    "s = \"](){}[\"\n",
    "a = 0\n",
    "for c in s:\n",
    "    if c == \"(\" or c == \"[\" or c == \"{\":\n",
    "            stack.append(c)\n",
    "            print(stack)\n",
    "    elif c == \")\" or c == \"]\" or c == \"}\":\n",
    "        if not stack:\n",
    "                a += 0\n",
    "        else:\n",
    "                stack.pop()\n",
    "        print(stack)\n",
    "\n",
    "if stack:\n",
    "        a += 0\n",
    "else:\n",
    "        a += 1\n",
    "print(a)"
   ]
  },
  {
   "cell_type": "code",
   "execution_count": 53,
   "metadata": {},
   "outputs": [],
   "source": [
    "def solution(s):\n",
    "  answer = 0\n",
    "  n = len(s)\n",
    "  for i in range(n):\n",
    "    stack = [ ]\n",
    "    for j in range(n):\n",
    "      c = s[(i + j) % n]\n",
    "      if c == \"(\" or c == \"[\" or c == \"{\":  \n",
    "        stack.append(c)\n",
    "      else:\n",
    "        if not stack:  \n",
    "          break\n",
    "\n",
    "\n",
    "        if c == \")\" and stack[-1] == \"(\":\n",
    "           stack.pop( ) \n",
    "        elif c == \"]\" and stack[-1] == \"[\":\n",
    "           stack.pop( ) \n",
    "        elif c == \"}\" and stack[-1] == \"{\":\n",
    "           stack.pop( ) \n",
    "        else:\n",
    "             break\n",
    "    else:  \n",
    "      if not stack:\n",
    "        answer += 1\n",
    "  return answer \n"
   ]
  },
  {
   "cell_type": "code",
   "execution_count": 11,
   "metadata": {},
   "outputs": [
    {
     "name": "stdout",
     "output_type": "stream",
     "text": [
      "['b', 'a']\n",
      "['b']\n",
      "['a']\n"
     ]
    },
    {
     "data": {
      "text/plain": [
       "1"
      ]
     },
     "execution_count": 11,
     "metadata": {},
     "output_type": "execute_result"
    }
   ],
   "source": [
    "def solution(s):\n",
    "    b = []\n",
    "    for i in s:\n",
    "        if b and b[-1] == i:\n",
    "            b.pop()\n",
    "        else:\n",
    "            b.append(i)\n",
    "    return(int(not b) )\n",
    "\n",
    "solution('baabaa')\n"
   ]
  },
  {
   "cell_type": "code",
   "execution_count": 103,
   "metadata": {},
   "outputs": [
    {
     "name": "stdout",
     "output_type": "stream",
     "text": [
      "['d', 'c']\n",
      "['d', 'c']\n",
      "['c', 'd', 'c']\n",
      "0\n"
     ]
    }
   ],
   "source": [
    "answer = 0\n",
    "b = []\n",
    "\n",
    "\n",
    "\n",
    "        \n",
    "print(answer)"
   ]
  },
  {
   "cell_type": "code",
   "execution_count": 22,
   "metadata": {},
   "outputs": [
    {
     "name": "stdout",
     "output_type": "stream",
     "text": [
      "2\n",
      "1\n"
     ]
    },
    {
     "data": {
      "text/plain": [
       "[3, 2, 1, 0]"
      ]
     },
     "execution_count": 22,
     "metadata": {},
     "output_type": "execute_result"
    }
   ],
   "source": [
    "def solution(s):\n",
    "    p = [0]\n",
    "    answer = [0]*len(s)\n",
    "    for i in range(1, len(s)):\n",
    "        while p and s[i] < s[p[-1]]:\n",
    "            j = p.pop()\n",
    "            answer[j] = i - j\n",
    "        p.append(i)\n",
    "    while p:\n",
    "        j = p.pop()\n",
    "        answer[j] = len(s) -1 - j\n",
    "    return answer\n",
    "\n",
    "        \n",
    "solution([1,6,9,5])\n",
    "    "
   ]
  },
  {
   "cell_type": "code",
   "execution_count": null,
   "metadata": {},
   "outputs": [
    {
     "name": "stdout",
     "output_type": "stream",
     "text": [
      "yes\n",
      "no\n",
      "yes\n",
      "yes\n"
     ]
    }
   ],
   "source": [
    "while True:\n",
    "    a = input()\n",
    "    if a[0] == '0':\n",
    "        break\n",
    "\n",
    "    if a== a[::-1]:\n",
    "        print('yes')\n",
    "    else:\n",
    "        print('no')        \n",
    "\n",
    "\n"
   ]
  },
  {
   "cell_type": "code",
   "execution_count": 40,
   "metadata": {},
   "outputs": [
    {
     "name": "stdout",
     "output_type": "stream",
     "text": [
      "<class 'int'>\n",
      "1\n",
      "2\n",
      "3\n"
     ]
    }
   ],
   "source": [
    "a ='123321'\n",
    "b = len(a)//2\n",
    "print(type(b))\n",
    "for i in range(1,b+1):\n",
    "    print(i)"
   ]
  },
  {
   "cell_type": "code",
   "execution_count": 32,
   "metadata": {},
   "outputs": [
    {
     "name": "stdout",
     "output_type": "stream",
     "text": [
      "5\n",
      "7\n",
      "11\n",
      "13\n"
     ]
    }
   ],
   "source": [
    "N, M = map(int, input().split(\" \"))\n",
    "a = [False,False] + [True]*(M-1)\n",
    "for i in range(N-N,M+1):\n",
    "    if a[i]:\n",
    "        if i>=N:\n",
    "            print(i , end = \"\\n\")\n",
    "        for j in range(2*i, M+1, i):\n",
    "            a[j] = False\n",
    "        \n",
    "\n",
    "\n"
   ]
  },
  {
   "cell_type": "code",
   "execution_count": 21,
   "metadata": {},
   "outputs": [
    {
     "name": "stdout",
     "output_type": "stream",
     "text": [
      "[2, 3, 5, 7, 11, 13, 17, 19, 23, 29, 31, 37, 41, 43, 47, 53, 59, 61, 67, 71, 73, 79, 83, 89, 97, 101, 103, 107, 109, 113, 127, 131, 137, 139, 149, 151, 157, 163, 167, 173, 179, 181, 191, 193, 197, 199, 211, 223, 227, 229, 233, 239, 241, 251, 257, 263, 269, 271, 277, 281, 283, 293, 307, 311, 313, 317, 331, 337, 347, 349, 353, 359, 367, 373, 379, 383, 389, 397, 401, 409, 419, 421, 431, 433, 439, 443, 449, 457, 461, 463, 467, 479, 487, 491, 499, 503, 509, 521, 523, 541, 547, 557, 563, 569, 571, 577, 587, 593, 599, 601, 607, 613, 617, 619, 631, 641, 643, 647, 653, 659, 661, 673, 677, 683, 691, 701, 709, 719, 727, 733, 739, 743, 751, 757, 761, 769, 773, 787, 797, 809, 811, 821, 823, 827, 829, 839, 853, 857, 859, 863, 877, 881, 883, 887, 907, 911, 919, 929, 937, 941, 947, 953, 967, 971, 977, 983, 991, 997]\n"
     ]
    }
   ],
   "source": [
    "n=1000\n",
    "a = [False,False] + [True]*(n-1)\n",
    "primes=[]\n",
    "\n",
    "for i in range(0,n+1):\n",
    "  if a[i]:\n",
    "    primes.append(i)\n",
    "    for j in range(2*i, n+1, i):\n",
    "        a[j] = False\n",
    "print(primes)"
   ]
  },
  {
   "cell_type": "code",
   "execution_count": 19,
   "metadata": {},
   "outputs": [
    {
     "name": "stdout",
     "output_type": "stream",
     "text": [
      "[False, False, True, True, True, True, True, True, True, True, True, True, True, True, True, True, True, True, True, True, True, True, True, True, True, True, True, True, True, True, True, True, True, True, True, True, True, True, True, True, True, True, True, True, True, True, True, True, True, True, True, True, True, True, True, True, True, True, True, True, True, True, True, True, True, True, True, True, True, True, True, True, True, True, True, True, True, True, True, True, True, True, True, True, True, True, True, True, True, True, True, True, True, True, True, True, True, True, True, True, True, True, True, True, True, True, True, True, True, True, True, True, True, True, True, True, True, True, True, True, True, True, True, True, True, True, True, True, True, True, True, True, True, True, True, True, True, True, True, True, True, True, True, True, True, True, True, True, True, True, True, True, True, True, True, True, True, True, True, True, True, True, True, True, True, True, True, True, True, True, True, True, True, True, True, True, True, True, True, True, True, True, True, True, True, True, True, True, True, True, True, True, True, True, True, True, True, True, True, True, True, True, True, True, True, True, True, True, True, True, True, True, True, True, True, True, True, True, True, True, True, True, True, True, True, True, True, True, True, True, True, True, True, True, True, True, True, True, True, True, True, True, True, True, True, True, True, True, True, True, True, True, True, True, True, True, True, True, True, True, True, True, True, True, True, True, True, True, True, True, True, True, True, True, True, True, True, True, True, True, True, True, True, True, True, True, True, True, True, True, True, True, True, True, True, True, True, True, True, True, True, True, True, True, True, True, True, True, True, True, True, True, True, True, True, True, True, True, True, True, True, True, True, True, True, True, True, True, True, True, True, True, True, True, True, True, True, True, True, True, True, True, True, True, True, True, True, True, True, True, True, True, True, True, True, True, True, True, True, True, True, True, True, True, True, True, True, True, True, True, True, True, True, True, True, True, True, True, True, True, True, True, True, True, True, True, True, True, True, True, True, True, True, True, True, True, True, True, True, True, True, True, True, True, True, True, True, True, True, True, True, True, True, True, True, True, True, True, True, True, True, True, True, True, True, True, True, True, True, True, True, True, True, True, True, True, True, True, True, True, True, True, True, True, True, True, True, True, True, True, True, True, True, True, True, True, True, True, True, True, True, True, True, True, True, True, True, True, True, True, True, True, True, True, True, True, True, True, True, True, True, True, True, True, True, True, True, True, True, True, True, True, True, True, True, True, True, True, True, True, True, True, True, True, True, True, True, True, True, True, True, True, True, True, True, True, True, True, True, True, True, True, True, True, True, True, True, True, True, True, True, True, True, True, True, True, True, True, True, True, True, True, True, True, True, True, True, True, True, True, True, True, True, True, True, True, True, True, True, True, True, True, True, True, True, True, True, True, True, True, True, True, True, True, True, True, True, True, True, True, True, True, True, True, True, True, True, True, True, True, True, True, True, True, True, True, True, True, True, True, True, True, True, True, True, True, True, True, True, True, True, True, True, True, True, True, True, True, True, True, True, True, True, True, True, True, True, True, True, True, True, True, True, True, True, True, True, True, True, True, True, True, True, True, True, True, True, True, True, True, True, True, True, True, True, True, True, True, True, True, True, True, True, True, True, True, True, True, True, True, True, True, True, True, True, True, True, True, True, True, True, True, True, True, True, True, True, True, True, True, True, True, True, True, True, True, True, True, True, True, True, True, True, True, True, True, True, True, True, True, True, True, True, True, True, True, True, True, True, True, True, True, True, True, True, True, True, True, True, True, True, True, True, True, True, True, True, True, True, True, True, True, True, True, True, True, True, True, True, True, True, True, True, True, True, True, True, True, True, True, True, True, True, True, True, True, True, True, True, True, True, True, True, True, True, True, True, True, True, True, True, True, True, True, True, True, True, True, True, True, True, True, True, True, True, True, True, True, True, True, True, True, True, True, True, True, True, True, True, True, True, True, True, True, True, True, True, True, True, True, True, True, True, True, True, True, True, True, True, True, True, True, True, True, True, True, True, True, True, True, True, True, True, True, True, True, True, True, True, True, True, True, True, True, True, True, True, True, True, True, True, True, True, True, True, True, True, True, True, True, True, True, True, True, True, True, True, True, True, True, True, True, True, True, True, True, True, True, True, True, True, True, True, True, True, True, True, True, True, True, True, True, True, True, True, True, True, True, True, True, True, True, True, True, True, True, True, True, True, True, True, True, True, True, True, True, True, True, True, True, True, True, True, True, True, True, True, True, True, True, True, True, True, True, True, True, True, True, True, True, True, True, True, True, True, True, True, True, True, True, True, True, True, True, True, True, True, True, True, True, True, True, True, True, True, True, True, True, True, True, True, True, True, True, True, True, True, True, True, True, True, True, True, True, True, True, True, True, True, True, True]\n"
     ]
    }
   ],
   "source": [
    "a = [False,False] + [True]*(n-1)\n",
    "print(a)"
   ]
  },
  {
   "cell_type": "code",
   "execution_count": 21,
   "metadata": {},
   "outputs": [
    {
     "name": "stdout",
     "output_type": "stream",
     "text": [
      "9\n"
     ]
    }
   ],
   "source": [
    "N, K = map(int, input().split(\" \"))\n",
    "A = [False,False] + [True]*(N-1)\n",
    "B = 0\n",
    "for i in range(2,N+1):\n",
    "    if A[i]:\n",
    "        for j in range(i, N+1, i):\n",
    "            if A[j]:\n",
    "                A[j] = False\n",
    "                B += 1\n",
    "                if B == K:\n",
    "                    print(j)"
   ]
  },
  {
   "cell_type": "code",
   "execution_count": 27,
   "metadata": {},
   "outputs": [
    {
     "name": "stdout",
     "output_type": "stream",
     "text": [
      "yes\n"
     ]
    },
    {
     "ename": "IndexError",
     "evalue": "string index out of range",
     "output_type": "error",
     "traceback": [
      "\u001b[1;31m---------------------------------------------------------------------------\u001b[0m",
      "\u001b[1;31mIndexError\u001b[0m                                Traceback (most recent call last)",
      "Cell \u001b[1;32mIn[27], line 3\u001b[0m\n\u001b[0;32m      1\u001b[0m \u001b[38;5;28;01mwhile\u001b[39;00m \u001b[38;5;28;01mTrue\u001b[39;00m:\n\u001b[0;32m      2\u001b[0m     a \u001b[38;5;241m=\u001b[39m \u001b[38;5;28minput\u001b[39m()\n\u001b[1;32m----> 3\u001b[0m     \u001b[38;5;28;01mif\u001b[39;00m \u001b[43ma\u001b[49m\u001b[43m[\u001b[49m\u001b[38;5;241;43m0\u001b[39;49m\u001b[43m]\u001b[49m \u001b[38;5;241m==\u001b[39m \u001b[38;5;124m'\u001b[39m\u001b[38;5;124m0\u001b[39m\u001b[38;5;124m'\u001b[39m:\n\u001b[0;32m      4\u001b[0m         \u001b[38;5;28;01mbreak\u001b[39;00m\n\u001b[0;32m      6\u001b[0m     \u001b[38;5;28;01mif\u001b[39;00m a\u001b[38;5;241m==\u001b[39m a[::\u001b[38;5;241m-\u001b[39m\u001b[38;5;241m1\u001b[39m]:\n",
      "\u001b[1;31mIndexError\u001b[0m: string index out of range"
     ]
    }
   ],
   "source": [
    "while True:\n",
    "    a = input()\n",
    "    if a[0] == '0':\n",
    "        break\n",
    "\n",
    "    if a== a[::-1]:\n",
    "        print('yes')\n",
    "    else:\n",
    "        print('no')  "
   ]
  },
  {
   "cell_type": "code",
   "execution_count": 41,
   "metadata": {},
   "outputs": [
    {
     "name": "stdout",
     "output_type": "stream",
     "text": [
      "33\n"
     ]
    }
   ],
   "source": [
    "N= int(input())\n",
    "n=1000000\n",
    "a = [False,False] + [True]*(n-1)\n",
    "b=[]\n",
    "for i in range(N,n+1):\n",
    "    if a[i]:\n",
    "        b.append(i)\n",
    "        for j in range(2*i, n+1, i):\n",
    "            a[j] = False\n",
    "for k in range(0,len(b)+1):\n",
    "    c = f'{b[k]}'\n",
    "    if c == c[::-1] and b[k] >= N:\n",
    "        print(c)\n",
    "        break"
   ]
  },
  {
   "cell_type": "code",
   "execution_count": 57,
   "metadata": {},
   "outputs": [
    {
     "name": "stdout",
     "output_type": "stream",
     "text": [
      "1003001\n"
     ]
    }
   ],
   "source": [
    "N= int(input())\n",
    "n=1003001\n",
    "a = [False,False] + [True]*(n-1)\n",
    "b=[]\n",
    "for i in range(0,n+1):\n",
    "    if a[i]:\n",
    "        b.append(i)\n",
    "        for j in range(2*i, n+1, i):\n",
    "            a[j] = False\n",
    "for k in range(0,len(b)+1):\n",
    "    c = f'{b[k]}'\n",
    "    if c == c[::-1] and b[k] >= N:\n",
    "        print(c)\n",
    "        break"
   ]
  },
  {
   "cell_type": "code",
   "execution_count": 90,
   "metadata": {},
   "outputs": [
    {
     "name": "stdout",
     "output_type": "stream",
     "text": [
      "12\n"
     ]
    }
   ],
   "source": [
    "N = input()\n",
    "a = 100\n",
    "c = 0\n",
    "e = N\n",
    "if len(N) == 1:\n",
    "    N = '0' + N\n",
    "while True:\n",
    "\n",
    "    if  int(e) != int(a):\n",
    "        b = int(N[0]) + int(N)%10\n",
    "        a = f'{int(N)%10}' + f'{int(b)%10}'\n",
    "        c += 1\n",
    "        N = a\n",
    "    else:\n",
    "        print(c)\n",
    "        break\n",
    "\n"
   ]
  },
  {
   "cell_type": "code",
   "execution_count": 82,
   "metadata": {},
   "outputs": [
    {
     "name": "stdout",
     "output_type": "stream",
     "text": [
      "1 11\n",
      "2 12\n",
      "3 23\n",
      "5 35\n",
      "8 58\n",
      "13 83\n",
      "11 31\n",
      "4 14\n",
      "5 45\n",
      "9 59\n",
      "14 94\n",
      "13 43\n",
      "7 37\n",
      "10 70\n",
      "7 07\n",
      "7 77\n",
      "14 74\n",
      "11 41\n",
      "5 15\n",
      "6 56\n",
      "11 61\n",
      "7 17\n",
      "8 78\n",
      "15 85\n",
      "13 53\n",
      "8 38\n",
      "11 81\n",
      "9 19\n",
      "10 90\n",
      "9 09\n",
      "9 99\n",
      "18 98\n",
      "17 87\n",
      "15 75\n",
      "12 52\n",
      "7 27\n",
      "9 79\n",
      "16 96\n",
      "15 65\n",
      "11 51\n",
      "6 16\n",
      "7 67\n",
      "13 73\n",
      "10 30\n",
      "3 03\n",
      "3 33\n",
      "6 36\n",
      "9 69\n",
      "15 95\n",
      "14 54\n",
      "9 49\n",
      "13 93\n",
      "12 32\n",
      "5 25\n",
      "7 57\n",
      "12 72\n",
      "9 29\n",
      "11 91\n",
      "10 10\n",
      "1 01\n",
      "60\n"
     ]
    }
   ],
   "source": [
    "N = input()\n",
    "a = 0\n",
    "c = 0\n",
    "e = N\n",
    "if len(N) == 1:\n",
    "    N = '0' + N\n",
    "while True:\n",
    "\n",
    "    if int(e) != int(a):\n",
    "        b = int(N[0]) + int(N)%10\n",
    "        a = f'{int(N)%10}' + f'{int(b)%10}'\n",
    "        c += 1\n",
    "        print(b ,a)\n",
    "        N = a\n",
    "    else:\n",
    "        print(c)\n",
    "        break"
   ]
  },
  {
   "cell_type": "code",
   "execution_count": 98,
   "metadata": {},
   "outputs": [
    {
     "name": "stdout",
     "output_type": "stream",
     "text": [
      "2\n"
     ]
    }
   ],
   "source": [
    "N , M = map(int, input().split(\" \"))\n",
    "print(int((M*2 - N)))"
   ]
  },
  {
   "cell_type": "code",
   "execution_count": 112,
   "metadata": {},
   "outputs": [
    {
     "name": "stdout",
     "output_type": "stream",
     "text": [
      "848\n"
     ]
    }
   ],
   "source": [
    "A = []\n",
    "for _ in range(5):\n",
    "    a = int(input())\n",
    "    A.append(a)\n",
    "print(f'{min(A[:3]) + min(A[3:]) - 50}')\n"
   ]
  },
  {
   "cell_type": "code",
   "execution_count": 111,
   "metadata": {},
   "outputs": [
    {
     "name": "stdout",
     "output_type": "stream",
     "text": [
      "700\n",
      "848\n"
     ]
    }
   ],
   "source": [
    "A = [900,700,800,300,198]\n",
    "print(min(A[:3]))\n",
    "print(f'{min(A[:3]) + min(A[3:]) - 50}')"
   ]
  },
  {
   "cell_type": "code",
   "execution_count": 20,
   "metadata": {},
   "outputs": [
    {
     "name": "stdout",
     "output_type": "stream",
     "text": [
      "[1]\n",
      "[1, 3]\n",
      "[1, 3, 0]\n",
      "[1, 3, 0, 1]\n"
     ]
    },
    {
     "data": {
      "text/plain": [
       "[1, 3, 0, 1]"
      ]
     },
     "execution_count": 20,
     "metadata": {},
     "output_type": "execute_result"
    }
   ],
   "source": [
    "def solution(arr):\n",
    "    answer = []\n",
    "    for i in arr:\n",
    "        if answer[-1:] == [i]: \n",
    "            continue\n",
    "        else:\n",
    "            answer.append(i)\n",
    "\n",
    "    return answer\n",
    "\n",
    "solution([1,1,3,3,0,1,1])"
   ]
  },
  {
   "cell_type": "code",
   "execution_count": 7,
   "metadata": {},
   "outputs": [
    {
     "data": {
      "text/plain": [
       "[0, 1, 3]"
      ]
     },
     "execution_count": 7,
     "metadata": {},
     "output_type": "execute_result"
    }
   ],
   "source": [
    "# 스택의 맨 위 문자자\n",
    "answer and answer[-1] == i\n",
    "\n",
    "answer[-1:] == [i]"
   ]
  },
  {
   "cell_type": "code",
   "execution_count": 21,
   "metadata": {},
   "outputs": [
    {
     "name": "stdout",
     "output_type": "stream",
     "text": [
      "[4]\n"
     ]
    }
   ],
   "source": [
    "a = [1,3,4]\n",
    "print(a[-1:])"
   ]
  },
  {
   "cell_type": "code",
   "execution_count": 5,
   "metadata": {},
   "outputs": [
    {
     "name": "stdout",
     "output_type": "stream",
     "text": [
      "4\n"
     ]
    }
   ],
   "source": [
    "print(4%5)"
   ]
  },
  {
   "cell_type": "code",
   "execution_count": 120,
   "metadata": {},
   "outputs": [
    {
     "data": {
      "text/plain": [
       "[2, 1]"
      ]
     },
     "execution_count": 120,
     "metadata": {},
     "output_type": "execute_result"
    }
   ],
   "source": [
    "def solution(progresses, speeds):\n",
    "    d = []\n",
    "    answer = []\n",
    "    c=0\n",
    "    for i in range(len(progresses)):\n",
    "        a = (100-progresses[i])//speeds[i]\n",
    "        b = (100-progresses[i])%speeds[i]\n",
    "        if b > 0:\n",
    "            d.append(a + 1)\n",
    "        else:\n",
    "            d.append(a)\n",
    "    e = [d[0]]\n",
    "    for i in d:\n",
    "        if e[-1:] >= [i]:\n",
    "            c += 1\n",
    "        else:\n",
    "            answer.append(c)\n",
    "            c = 0\n",
    "            c += 1\n",
    "            e.append(i)\n",
    "\n",
    "    answer.append(c)\n",
    "\n",
    "    return answer\n",
    "\n",
    "solution([93, 30, 55], [1, 30, 5])"
   ]
  },
  {
   "cell_type": "code",
   "execution_count": null,
   "metadata": {},
   "outputs": [],
   "source": [
    "([93, 30, 55], [1, 30, 5])\n",
    "([95, 90, 99, 99, 80, 99], [1, 1, 1, 1, 1, 1])"
   ]
  },
  {
   "cell_type": "code",
   "execution_count": 11,
   "metadata": {},
   "outputs": [
    {
     "name": "stdout",
     "output_type": "stream",
     "text": [
      "(2, 0)\n",
      "(1, 1)\n",
      "(3, 2)\n",
      "(2, 3)\n"
     ]
    },
    {
     "data": {
      "text/plain": [
       "2"
      ]
     },
     "execution_count": 11,
     "metadata": {},
     "output_type": "execute_result"
    }
   ],
   "source": [
    "from collections import deque\n",
    "def solution(priorities, location):\n",
    "    answer = 0\n",
    "    a = deque([(j, i) for i, j in enumerate(priorities)])\n",
    "\n",
    "    while a:\n",
    "      b =  a.popleft()\n",
    "      print(b)\n",
    "      if any(b[0] < k[0] for k in a):\n",
    "         a.append(b)\n",
    "\n",
    "\n",
    " \n",
    "      else :\n",
    "            answer += 1\n",
    "            if b[1] == location:\n",
    "                return answer\n",
    "\n",
    "    return answer\n",
    "\n",
    "\n",
    "solution([2, 1, 3, 2], 3)"
   ]
  },
  {
   "cell_type": "code",
   "execution_count": 22,
   "metadata": {},
   "outputs": [
    {
     "name": "stdout",
     "output_type": "stream",
     "text": [
      "aaabbbccc\n",
      "/////hhhhhtttttppppp\n"
     ]
    }
   ],
   "source": [
    "N = int(input())\n",
    "c = ''\n",
    "for _ in range(N):\n",
    "    a , b = map(str, input().split(\" \"))\n",
    "    for i in range(len(b)):\n",
    "        c += b[i]*int(a)\n",
    "    print(c)\n",
    "    c = ''"
   ]
  },
  {
   "cell_type": "code",
   "execution_count": 4,
   "metadata": {},
   "outputs": [
    {
     "name": "stdout",
     "output_type": "stream",
     "text": [
      "7\n"
     ]
    }
   ],
   "source": [
    "N = int(input())\n",
    "b = []\n",
    "for _ in range(N):\n",
    "    a = int(input())\n",
    "    if a == 0:\n",
    "        b.pop()\n",
    "    else:\n",
    "        b.append(a)\n",
    "print(sum(b))"
   ]
  },
  {
   "cell_type": "code",
   "execution_count": 13,
   "metadata": {},
   "outputs": [
    {
     "name": "stdout",
     "output_type": "stream",
     "text": [
      "6\n",
      "1\n"
     ]
    },
    {
     "ename": "ValueError",
     "evalue": "not enough values to unpack (expected 2, got 0)",
     "output_type": "error",
     "traceback": [
      "\u001b[1;31m---------------------------------------------------------------------------\u001b[0m",
      "\u001b[1;31mValueError\u001b[0m                                Traceback (most recent call last)",
      "Cell \u001b[1;32mIn[13], line 3\u001b[0m\n\u001b[0;32m      1\u001b[0m N \u001b[38;5;241m=\u001b[39m \u001b[38;5;28mint\u001b[39m(\u001b[38;5;28minput\u001b[39m())\n\u001b[0;32m      2\u001b[0m \u001b[38;5;28;01mfor\u001b[39;00m _ \u001b[38;5;129;01min\u001b[39;00m \u001b[38;5;28mrange\u001b[39m(N):\n\u001b[1;32m----> 3\u001b[0m     a, b \u001b[38;5;241m=\u001b[39m \u001b[38;5;28mmap\u001b[39m(\u001b[38;5;28mint\u001b[39m, \u001b[38;5;28minput\u001b[39m()\u001b[38;5;241m.\u001b[39msplit())\n\u001b[0;32m      5\u001b[0m     \u001b[38;5;28;01mwhile\u001b[39;00m b \u001b[38;5;241m>\u001b[39m \u001b[38;5;241m0\u001b[39m:\n\u001b[0;32m      6\u001b[0m         a , b \u001b[38;5;241m=\u001b[39m b, a\u001b[38;5;241m%\u001b[39mb\n",
      "\u001b[1;31mValueError\u001b[0m: not enough values to unpack (expected 2, got 0)"
     ]
    }
   ],
   "source": [
    "N = int(input())\n",
    "for _ in range(N):\n",
    "    a, b = map(int, input().split())\n",
    " \n",
    "    while b > 0:\n",
    "        a , b = b, a%b\n",
    "    print(a)"
   ]
  },
  {
   "cell_type": "code",
   "execution_count": null,
   "metadata": {},
   "outputs": [],
   "source": [
    "import sys\n",
    "s = int(sys.stdin.readline())\n",
    "stack = []\n",
    "for _ in range(s):       \n",
    "  b = sys.stdin.readline().split()\n",
    "  if b[0] == '1':\n",
    "        stack.append(b[1])\n",
    "  elif b[0] == '2':\n",
    "      if not stack:\n",
    "        print(-1)\n",
    "      else:\n",
    "        print(stack.pop())\n",
    "  elif b[0] == '3':\n",
    "        print(len(stack))\n",
    "  elif b[0] == '4':\n",
    "      if stack:\n",
    "          print(0)\n",
    "      else:\n",
    "          print(1)\n",
    "  elif b[0] == '5':\n",
    "      if not stack:\n",
    "          print(-1)\n",
    "      else:\n",
    "          print(stack[-1])\n"
   ]
  },
  {
   "cell_type": "code",
   "execution_count": 17,
   "metadata": {},
   "outputs": [
    {
     "name": "stdout",
     "output_type": "stream",
     "text": [
      "4\n"
     ]
    },
    {
     "data": {
      "text/plain": [
       "[1, 3]"
      ]
     },
     "execution_count": 17,
     "metadata": {},
     "output_type": "execute_result"
    }
   ],
   "source": [
    "7\n",
    "pop\n",
    "top\n",
    "push 123\n",
    "top\n",
    "pop\n",
    "top\n",
    "pop"
   ]
  },
  {
   "cell_type": "code",
   "execution_count": 18,
   "metadata": {},
   "outputs": [
    {
     "name": "stdout",
     "output_type": "stream",
     "text": [
      "NO\n"
     ]
    }
   ],
   "source": [
    "N = int(input())\n",
    "for i in range(N):\n",
    "  stack = []\n",
    "  s = str(input())\n",
    "  for c in s:\n",
    "      if c == \"(\" :\n",
    "            stack.append(c)\n",
    "      elif c == \")\":          \n",
    "          if not stack:\n",
    "            print('NO')\n",
    "            break\n",
    "          else:\n",
    "            stack.pop()\n",
    "  else:\n",
    "    if stack:\n",
    "        print('NO')\n",
    "    else:\n",
    "        print('YES')"
   ]
  },
  {
   "cell_type": "code",
   "execution_count": null,
   "metadata": {},
   "outputs": [],
   "source": [
    "6\n",
    "(())())\n",
    "(((()())()\n",
    "(()())((()))\n",
    "((()()(()))(((())))()\n",
    "()()()()(()()())()\n",
    "(()((())()("
   ]
  },
  {
   "cell_type": "code",
   "execution_count": 3,
   "metadata": {},
   "outputs": [
    {
     "name": "stdout",
     "output_type": "stream",
     "text": [
      "NO\n",
      "YES\n",
      "NO\n",
      "YES\n",
      "NO\n",
      "NO\n"
     ]
    }
   ],
   "source": [
    "def solution(s):\n",
    "    stack = []\n",
    "    for c in s:\n",
    "        if c == \"(\" :\n",
    "            stack.append(c)\n",
    "        elif c == \")\":\n",
    "            if not stack:\n",
    "                return \"NO\"\n",
    "            else:\n",
    "                stack.pop()\n",
    "    if stack:\n",
    "        return 'NO'\n",
    "    else:\n",
    "        return \"YES\"\n",
    "    \n",
    "N = int(input())\n",
    "for i in range(N):\n",
    "  stack = []\n",
    "  s = input()\n",
    "  print(solution(s))"
   ]
  },
  {
   "cell_type": "code",
   "execution_count": null,
   "metadata": {},
   "outputs": [
    {
     "name": "stdout",
     "output_type": "stream",
     "text": [
      "[6]\n",
      "[6, 7]\n",
      "[6, 7, 9]\n",
      "3\n"
     ]
    }
   ],
   "source": [
    "import sys\n",
    "N = int(sys.stdin.readline())\n",
    "stack = []\n",
    "stack2 = []\n",
    "b = 0\n",
    "for _ in range(N):\n",
    "    stack.append(int(sys.stdin.readline()))\n",
    "for i in stack[::-1]:\n",
    "    if stack2[-1:] < [i]:\n",
    "        b += 1\n",
    "        stack2.append(i)\n",
    "print(b)"
   ]
  },
  {
   "cell_type": "code",
   "execution_count": null,
   "metadata": {},
   "outputs": [],
   "source": [
    "int(sys.stdin.readline())\n",
    "stack.append(int(sys.stdin.readline()))"
   ]
  },
  {
   "cell_type": "code",
   "execution_count": 13,
   "metadata": {},
   "outputs": [
    {
     "name": "stdout",
     "output_type": "stream",
     "text": [
      "test a is this\n"
     ]
    }
   ],
   "source": [
    "a = ['this', 'is', 'a', 'test']\n",
    "print(*a[::-1])"
   ]
  },
  {
   "cell_type": "code",
   "execution_count": null,
   "metadata": {},
   "outputs": [
    {
     "name": "stdout",
     "output_type": "stream",
     "text": [
      "Case #1: test a is this\n",
      "Case #2: base your all\n",
      "Case #3: base your all\n"
     ]
    }
   ],
   "source": [
    "N = int(sys.stdin.readline())\n",
    "for i in range(N):\n",
    "  a = sys.stdin.readline().split(\" \")\n",
    "  print(f'Case #{i+1}: {\" \".join(a[::-1])}')\n"
   ]
  },
  {
   "cell_type": "code",
   "execution_count": null,
   "metadata": {},
   "outputs": [],
   "source": [
    "this is a test\n",
    "foobar\n",
    "all your base"
   ]
  },
  {
   "cell_type": "code",
   "execution_count": 10,
   "metadata": {},
   "outputs": [
    {
     "name": "stdout",
     "output_type": "stream",
     "text": [
      "1\n"
     ]
    }
   ],
   "source": [
    "stack = []\n",
    "N = int(input())\n",
    "a = input()\n",
    "for i in range(N):\n",
    "    if a[i].islower():\n",
    "        stack.append(a[i])\n",
    "\n",
    "    else:\n",
    "        if not stack or stack[-1] != a[i].lower():\n",
    "          print(0)\n",
    "          break\n",
    "        else:\n",
    "          stack.pop()\n",
    "else:\n",
    "  if stack:\n",
    "      print(0)\n",
    "  else:\n",
    "      print(1)\n",
    "    "
   ]
  },
  {
   "cell_type": "code",
   "execution_count": null,
   "metadata": {},
   "outputs": [],
   "source": [
    "14\n",
    "aabcdDCBdDAbBA"
   ]
  },
  {
   "cell_type": "code",
   "execution_count": 3,
   "metadata": {},
   "outputs": [
    {
     "name": "stdout",
     "output_type": "stream",
     "text": [
      "4\n"
     ]
    }
   ],
   "source": [
    "a, b = map(int, input().split())\n",
    "c = 0\n",
    "while a != b:\n",
    "    if a > b:\n",
    "        a = a - b\n",
    "        c += 1\n",
    "    else:\n",
    "        b = b - a \n",
    "        c +=1\n",
    "print(c)"
   ]
  },
  {
   "cell_type": "code",
   "execution_count": 10,
   "metadata": {},
   "outputs": [
    {
     "name": "stdout",
     "output_type": "stream",
     "text": [
      "[1, 1, 2]\n"
     ]
    }
   ],
   "source": [
    "stack1 = {'a':'A','b':'B',\"c\":'C',\"d\":'D',\"e\":'E',\"f\":'F',\"g\":'G',\"h\":'H',\"i\":'I',\"j\":'J',\"k\":'K',\"l\":'L',\"m\":'M',\"n\":'N',\"o\":'O',\"p\":'P',\"q\":'Q',\"r\":'R','s':'S',\"t\":'T','u':'U',\"v\":'V','w':'W',\"x\":'X','y':'Y',\"z\":'Z'}"
   ]
  },
  {
   "cell_type": "code",
   "execution_count": 2,
   "metadata": {},
   "outputs": [
    {
     "name": "stdout",
     "output_type": "stream",
     "text": [
      "45000\n",
      "30\n",
      "221\n"
     ]
    }
   ],
   "source": [
    "N = int(input())\n",
    "for _ in range(N):\n",
    "    a, b = map(int, input().split())\n",
    "    c = a * b\n",
    "    while b > 0:\n",
    "        a , b = b, a%b\n",
    "    print(int(c/a))"
   ]
  },
  {
   "cell_type": "code",
   "execution_count": 3,
   "metadata": {},
   "outputs": [
    {
     "name": "stdout",
     "output_type": "stream",
     "text": [
      "6\n",
      "72\n"
     ]
    }
   ],
   "source": [
    "a, b = map(int, input().split())\n",
    "c = a * b\n",
    "while b > 0:\n",
    "    a , b = b, a%b\n",
    "print(a)\n",
    "print(int(c/a))"
   ]
  },
  {
   "cell_type": "code",
   "execution_count": null,
   "metadata": {},
   "outputs": [],
   "source": [
    "def solution(data, ext, val_ext, sort_by):\n",
    "    ext_dic = {\"code\":0, \"date\":1, \"maximum\":2, \"remain\":3 }\n",
    "    data = sorted(data, key = lambda x : x[ext_dic[sort_by]])\n",
    "    answer = []\n",
    "    for i in data:\n",
    "        if i[ext_dic[ext]] < val_ext:\n",
    "            answer.append(val)\n",
    "    return answer"
   ]
  },
  {
   "cell_type": "code",
   "execution_count": null,
   "metadata": {},
   "outputs": [
    {
     "name": "stdout",
     "output_type": "stream",
     "text": [
      "70\n"
     ]
    }
   ],
   "source": [
    "import sys\n",
    "def gcd(a,b):\n",
    "  while b > 0:\n",
    "      a , b = b, a%b\n",
    "  return a\n",
    "\n",
    "N = int(input())\n",
    "for _ in range(N):\n",
    "    a = list(map(int, sys.stdin.readline().split()))\n",
    "    b = 0\n",
    "    for i in range(1,len(a)):\n",
    "      for j in range(1+i,len(a)):\n",
    "        b += gcd(a[i],a[j])\n",
    "    print(b)\n"
   ]
  },
  {
   "cell_type": "code",
   "execution_count": null,
   "metadata": {},
   "outputs": [],
   "source": [
    "3\n",
    "4 10 20 30 40\n",
    "3 7 5 12\n",
    "3 125 15 25"
   ]
  },
  {
   "cell_type": "code",
   "execution_count": null,
   "metadata": {},
   "outputs": [],
   "source": [
    "import sys\n",
    "import math\n",
    "N = int(input())\n",
    "for _ in range(N):\n",
    "    a = list(map(int, sys.stdin.readline().split()))\n",
    "    b = 0\n",
    "    for i in range(1,len(a)):\n",
    "      for j in range(1+i,len(a)):\n",
    "        b += math.gcd(a[i],a[j])\n",
    "    print(b)"
   ]
  },
  {
   "cell_type": "code",
   "execution_count": null,
   "metadata": {},
   "outputs": [
    {
     "name": "stdout",
     "output_type": "stream",
     "text": [
      "31 35\n"
     ]
    }
   ],
   "source": [
    "M = []\n",
    "for _ in range(2):\n",
    "  N = list(map(int, input().split()))\n",
    "  M.append(N)\n",
    "a = M[0][0] * M[1][1] + M[1][0] * M[0][1]\n",
    "b = M[0][1] * M[1][1]\n",
    "K = []\n",
    "for i in range(min(a,b), 0 , -1):\n",
    "    if (a%i == 0) and (b%i == 0):\n",
    "          K.append(int(a/i))\n",
    "          K.append(int(b/i))\n",
    "print(*K)\n"
   ]
  },
  {
   "cell_type": "code",
   "execution_count": null,
   "metadata": {},
   "outputs": [
    {
     "name": "stdout",
     "output_type": "stream",
     "text": [
      "31.0 35.0\n"
     ]
    }
   ],
   "source": [
    "import math\n",
    "a, b = map(int, input().split(\" \"))\n",
    "c, d = map(int, input().split(\" \"))\n",
    "\n",
    "N = a*d +c*b\n",
    "M = d*b\n",
    "print(f\"{int(N/math.gcd(N,M))} {int(M/math.gcd(N,M))}\")"
   ]
  },
  {
   "cell_type": "code",
   "execution_count": 27,
   "metadata": {},
   "outputs": [
    {
     "name": "stdout",
     "output_type": "stream",
     "text": [
      "[2, 7]\n",
      "[3, 5]\n"
     ]
    }
   ],
   "source": [
    "M = []\n",
    "for _ in range(2):\n",
    "  N = list(map(int, input().split()))\n",
    "  print(N)"
   ]
  },
  {
   "cell_type": "code",
   "execution_count": 39,
   "metadata": {},
   "outputs": [
    {
     "name": "stdout",
     "output_type": "stream",
     "text": [
      "300/1\n",
      "300/1\n",
      "1/1\n"
     ]
    }
   ],
   "source": [
    "N = int(input())\n",
    "M = list(map(int, input().split()))\n",
    "for i in range(1,N):\n",
    "  print(f\"{int(M[0]/math.gcd(M[0],M[i]))}/{int(M[i]/math.gcd(M[0],M[i]))}\")"
   ]
  },
  {
   "cell_type": "code",
   "execution_count": 4,
   "metadata": {},
   "outputs": [
    {
     "name": "stdout",
     "output_type": "stream",
     "text": [
      "10\n"
     ]
    }
   ],
   "source": [
    "N, M = map(int, input().split())\n",
    "h = max(map(int, input().split()))\n",
    "a = max(map(int, input().split()))\n",
    "print(h+a)"
   ]
  },
  {
   "cell_type": "code",
   "execution_count": 2,
   "metadata": {},
   "outputs": [
    {
     "name": "stdout",
     "output_type": "stream",
     "text": [
      "0\n"
     ]
    }
   ],
   "source": [
    "print(int(input()) - 2024)\n"
   ]
  },
  {
   "cell_type": "code",
   "execution_count": null,
   "metadata": {},
   "outputs": [
    {
     "name": "stdout",
     "output_type": "stream",
     "text": [
      "\n",
      "Hello\n",
      "d\n",
      "d\n",
      "\n",
      "\n",
      "\n"
     ]
    }
   ],
   "source": [
    "while True:\n",
    "  try:\n",
    "     print((input()))\n",
    "  except:\n",
    "    break\n",
    "  \n"
   ]
  },
  {
   "cell_type": "code",
   "execution_count": 1,
   "metadata": {},
   "outputs": [
    {
     "name": "stdout",
     "output_type": "stream",
     "text": [
      "100\n"
     ]
    }
   ],
   "source": [
    "a,b,c,d = map(int, input().split())\n",
    "print(f'{56*a+24*b+14*c+6*d}')"
   ]
  },
  {
   "cell_type": "code",
   "execution_count": 2,
   "metadata": {},
   "outputs": [
    {
     "name": "stdout",
     "output_type": "stream",
     "text": [
      "4.0\n"
     ]
    }
   ],
   "source": [
    "dict = {'A+': 4.3, 'A0': 4.0, 'A-': 3.7,\n",
    "        'B+': 3.3, 'B0': 3.0, 'B-': 2.7,\n",
    "        'C+': 2.3, 'C0': 2.0, 'C-': 1.7,\n",
    "        'D+': 1.3, 'D0': 1.0, 'D-': 0.7,'F': 0.0}\n",
    "\n",
    "print(dict[input()])\n",
    "    "
   ]
  },
  {
   "cell_type": "code",
   "execution_count": 2,
   "metadata": {},
   "outputs": [
    {
     "name": "stdout",
     "output_type": "stream",
     "text": [
      "79\n"
     ]
    }
   ],
   "source": [
    "N = int(input())\n",
    "a = 0\n",
    "for _ in range(N):\n",
    "    a += int(input())\n",
    "print(a)"
   ]
  },
  {
   "cell_type": "code",
   "execution_count": 5,
   "metadata": {},
   "outputs": [
    {
     "name": "stdout",
     "output_type": "stream",
     "text": [
      "Wrong"
     ]
    }
   ],
   "source": [
    "N = input()\n",
    "for i in N:\n",
    "    if i.isupper():\n",
    "        i = i.lower()\n",
    "    else:\n",
    "        i = i.upper()\n",
    "    print(i, end='')"
   ]
  },
  {
   "cell_type": "code",
   "execution_count": null,
   "metadata": {},
   "outputs": [
    {
     "name": "stdout",
     "output_type": "stream",
     "text": [
      "$170\n",
      "$186\n",
      "$309\n"
     ]
    }
   ],
   "source": [
    "dict = {\"Franklin\": 100, 'Grant':50, 'Jackson':20, 'Hamilton':10, 'Lincoln':5, 'Washington':1}\n",
    "N = int(input())\n",
    "b = 0\n",
    "for i in range(N):\n",
    "    a = input().split()\n",
    "    for j in a:\n",
    "        b += dict[j]\n",
    "    print(f'${b}')\n",
    "    b = 0"
   ]
  },
  {
   "cell_type": "code",
   "execution_count": null,
   "metadata": {},
   "outputs": [],
   "source": [
    "3\n",
    "Franklin Grant Jackson\n",
    "Hamilton Lincoln Washington\n",
    "Washington Washington Washington Franklin Jackson"
   ]
  },
  {
   "cell_type": "code",
   "execution_count": 12,
   "metadata": {},
   "outputs": [
    {
     "name": "stdout",
     "output_type": "stream",
     "text": [
      "1\n"
     ]
    }
   ],
   "source": [
    "dict = {'a':1, 'e':2, 'i':3, 'o':4, 'u':5}\n",
    "a = dict['a']\n",
    "print(a)"
   ]
  },
  {
   "cell_type": "code",
   "execution_count": 14,
   "metadata": {},
   "outputs": [
    {
     "name": "stdout",
     "output_type": "stream",
     "text": [
      "['Franklin', 'Grant', 'Jackson']\n"
     ]
    }
   ],
   "source": [
    "a = input().split(\" \")\n",
    "print(a)"
   ]
  },
  {
   "cell_type": "code",
   "execution_count": 1,
   "metadata": {},
   "outputs": [
    {
     "name": "stdout",
     "output_type": "stream",
     "text": [
      "7\n"
     ]
    }
   ],
   "source": [
    "N = input()\n",
    "print(len(N))"
   ]
  },
  {
   "cell_type": "code",
   "execution_count": 4,
   "metadata": {},
   "outputs": [
    {
     "name": "stdout",
     "output_type": "stream",
     "text": [
      "68\n"
     ]
    }
   ],
   "source": [
    "a = 0\n",
    "for _ in range(5):\n",
    "    b = int(input())\n",
    "    if b >= 40:\n",
    "      a += b\n",
    "    else:\n",
    "       a += 40\n",
    "print(int(a/5))"
   ]
  },
  {
   "cell_type": "code",
   "execution_count": 6,
   "metadata": {},
   "outputs": [
    {
     "name": "stdout",
     "output_type": "stream",
     "text": [
      "65\n"
     ]
    }
   ],
   "source": [
    "print(ord(input()))"
   ]
  },
  {
   "cell_type": "code",
   "execution_count": 11,
   "metadata": {},
   "outputs": [
    {
     "name": "stdout",
     "output_type": "stream",
     "text": [
      "1\n"
     ]
    }
   ],
   "source": [
    "N = input().split(\" \")\n",
    "a = 0\n",
    "for i in N:\n",
    "    a += int(i)**2\n",
    "print(int(a%10))"
   ]
  },
  {
   "cell_type": "markdown",
   "metadata": {},
   "source": [
    "# Deque"
   ]
  },
  {
   "cell_type": "code",
   "execution_count": null,
   "metadata": {},
   "outputs": [],
   "source": [
    "import sys\n",
    "from collections import deque\n",
    "s = int(sys.stdin.readline())\n",
    "que = deque()\n",
    "for _ in range(s):       \n",
    "  b = sys.stdin.readline().split()\n",
    "  if b[0] == 'push':\n",
    "        que.append(b[1])\n",
    "  elif b[0] == 'pop':\n",
    "      if not que:\n",
    "        print(-1)\n",
    "      else:\n",
    "        print(que.popleft())\n",
    "  elif b[0] == 'size':\n",
    "        print(len(que))\n",
    "  elif b[0] == 'empty':\n",
    "      if que:\n",
    "          print(0)\n",
    "      else:\n",
    "          print(1)\n",
    "  elif b[0] == 'front':\n",
    "      if not que:\n",
    "          print(-1)\n",
    "      else:\n",
    "          print(que[0])\n",
    "  elif b[0] == 'back':\n",
    "      if not que:\n",
    "          print(-1)\n",
    "      else:\n",
    "          print(que[-1])        "
   ]
  },
  {
   "cell_type": "code",
   "execution_count": 13,
   "metadata": {},
   "outputs": [
    {
     "name": "stdout",
     "output_type": "stream",
     "text": [
      "1 3 5 7 4 2 6\n"
     ]
    }
   ],
   "source": [
    "from collections import deque\n",
    "N = int(input())\n",
    "q = deque()\n",
    "a = []\n",
    "for i in range(1,N+1):\n",
    "    q.append(i)\n",
    "while len(q) != 1:\n",
    "    a.append(q.popleft())\n",
    "    q.rotate(-1)\n",
    "    if len(q) == 1:\n",
    "      break\n",
    "print(*a ,q.popleft())\n",
    "\n"
   ]
  },
  {
   "cell_type": "code",
   "execution_count": 2,
   "metadata": {},
   "outputs": [
    {
     "name": "stdout",
     "output_type": "stream",
     "text": [
      "4\n"
     ]
    }
   ],
   "source": [
    "from collections import deque\n",
    "N = int(input())\n",
    "q = deque()\n",
    "a = []\n",
    "for i in range(1,N+1):\n",
    "    q.append(i)\n",
    "while len(q) != 1:\n",
    "    a.append(q.popleft())\n",
    "    q.rotate(-1)\n",
    "    if len(q) == 1:\n",
    "      break\n",
    "print(q.popleft())"
   ]
  },
  {
   "cell_type": "code",
   "execution_count": 22,
   "metadata": {},
   "outputs": [
    {
     "name": "stdout",
     "output_type": "stream",
     "text": [
      "<3, 6, 2, 7, 5, 1, 4>\n"
     ]
    }
   ],
   "source": [
    "from collections import deque\n",
    "N, M = map(int, input().split())\n",
    "a = deque()\n",
    "b = []\n",
    "for i in range(1,N+1):\n",
    "    a.append(i)\n",
    "while len(a) != 0:\n",
    "  a.rotate(-M)\n",
    "  b.append(str(a.pop()))\n",
    "print(f'<'+', '.join(b)+'>')"
   ]
  },
  {
   "cell_type": "code",
   "execution_count": null,
   "metadata": {},
   "outputs": [],
   "source": [
    "print(f'<{','.join(b)}>')"
   ]
  },
  {
   "cell_type": "code",
   "execution_count": 7,
   "metadata": {},
   "outputs": [
    {
     "name": "stdout",
     "output_type": "stream",
     "text": [
      "4 1 "
     ]
    }
   ],
   "source": [
    "from collections import deque\n",
    "N = int(input())\n",
    "T = int(input())\n",
    "A = deque(input().split())\n",
    "B = input().split()\n",
    "\n",
    "for i in range(T):\n",
    "    A.rotate(-int(B[i])+1)\n",
    "    print(f'{A[0]}', end= ' ')"
   ]
  },
  {
   "cell_type": "code",
   "execution_count": null,
   "metadata": {},
   "outputs": [],
   "source": [
    "4\n",
    "2\n",
    "2 4 4 3 3 1 2 1\n",
    "3 12"
   ]
  },
  {
   "cell_type": "code",
   "execution_count": 24,
   "metadata": {},
   "outputs": [
    {
     "name": "stdout",
     "output_type": "stream",
     "text": [
      "5 3\n"
     ]
    }
   ],
   "source": [
    "def fibo(n):\n",
    "    a, b = 1, 1\n",
    "    for _ in range(3,n+1):\n",
    "      a, b = b, a+b\n",
    "    return b\n",
    "\n",
    "def fibonacci(n):\n",
    "   return n - 2\n",
    "   \n",
    "\n",
    "N = int(input())\n",
    "print(fibo(N), fibonacci(N))"
   ]
  },
  {
   "cell_type": "code",
   "execution_count": null,
   "metadata": {},
   "outputs": [
    {
     "name": "stdout",
     "output_type": "stream",
     "text": [
      "다음\n",
      "0 다음\n",
      "0 1 다음\n",
      "0 다음\n",
      "0 1 2 2 다음\n",
      "0 1 1 다음\n",
      "0 1 2 2 3 3 4\n"
     ]
    }
   ],
   "source": [
    "N = int(input())\n",
    "M = [0] + list(map(int, input().split()))\n",
    "A = [0]*(N+1)\n",
    "\n",
    "for i in range(1, N+1):\n",
    "    B = 0\n",
    "    for j in  range(0,i):\n",
    "        if M[i] > M[j]:\n",
    "            B = max(B, A[j])\n",
    "    A[i] = B + 1\n",
    "print(max(A))"
   ]
  },
  {
   "cell_type": "code",
   "execution_count": 2,
   "metadata": {},
   "outputs": [
    {
     "name": "stdout",
     "output_type": "stream",
     "text": [
      "w(1, 1, 1) = 2\n"
     ]
    }
   ],
   "source": [
    "def w(a,b,c):\n",
    "    if a <= 0 or b <= 0 or c <= 0 :\n",
    "        return 1\n",
    "    elif a > 20 or b > 20 or c > 20:\n",
    "        return w(20,20,20)\n",
    "    \n",
    "    if A[a][b][c]:\n",
    "        return A[a][b][c]\n",
    "    if a < b < c:\n",
    "        A[a][b][c] =  w(a,b,c-1) + w(a,b-1,c-1) - w(a,b-1,c)\n",
    "        return A[a][b][c]\n",
    "\n",
    "    A[a][b][c] = w(a-1,b,c) + w(a-1,b-1,c) + w(a-1,b,c-1) - w(a-1,b-1,c-1)\n",
    "    return A[a][b][c]\n",
    "\n",
    "A = [[[0]*21 for _ in range(21)] for _ in range(21)]\n",
    "\n",
    "while True:\n",
    "    a,b,c = map(int, input().split())\n",
    "    if a == -1 and b == -1 and c == -1:\n",
    "        break\n",
    "    print(f'w({a}, {b}, {c}) = {w(a,b,c)}')\n",
    "\n",
    "\n"
   ]
  },
  {
   "cell_type": "code",
   "execution_count": 7,
   "metadata": {},
   "outputs": [
    {
     "name": "stdout",
     "output_type": "stream",
     "text": [
      "3\n"
     ]
    }
   ],
   "source": [
    "N = int(input())\n",
    "M = [0] + list(map(int, input().split()))\n",
    "A = [0]*(N+1)\n",
    "\n",
    "for i in range(1, N+1):\n",
    "    B = 0\n",
    "    for j in  range(0,i):\n",
    "        if M[i] < M[j]:\n",
    "            B = max(B, A[j])\n",
    "    A[i] = B + 1\n",
    "print(max(A))"
   ]
  },
  {
   "cell_type": "code",
   "execution_count": null,
   "metadata": {},
   "outputs": [],
   "source": [
    "6\n",
    "10 30 10 20 20 10"
   ]
  },
  {
   "cell_type": "code",
   "execution_count": null,
   "metadata": {},
   "outputs": [
    {
     "name": "stdout",
     "output_type": "stream",
     "text": [
      "3\n",
      "16\n"
     ]
    }
   ],
   "source": [
    "import sys\n",
    "def p(a):\n",
    "    if A[a]:\n",
    "        return A[a]\n",
    "    else:\n",
    "        for _ in range(4,a+1):\n",
    "            A[a] = p(a-2) + p(a-3)\n",
    "        return A[a]\n",
    "N = int(sys.stdin.readline())\n",
    "A = [0,1,1,1] + [0]*(97)\n",
    "\n",
    "for _ in range(N):\n",
    "    a = int(sys.stdin.readline())\n",
    "    print(p(a))"
   ]
  },
  {
   "cell_type": "code",
   "execution_count": null,
   "metadata": {},
   "outputs": [
    {
     "name": "stdout",
     "output_type": "stream",
     "text": [
      "3\n",
      "16\n"
     ]
    }
   ],
   "source": [
    "\n",
    "def p(a):\n",
    "    if A[a]:\n",
    "      return A[a]\n",
    "    else:\n",
    "        for _ in range(4,a+1):\n",
    "            A[a] = p(a-2) + p(a-3)\n",
    "        return A[a]\n",
    "N = int(input())\n",
    "A = [0,1,1,1] + [0]*(97)\n",
    "\n",
    "for _ in range(N):\n",
    "    a = int(input())\n",
    "    print(p(a))"
   ]
  },
  {
   "cell_type": "code",
   "execution_count": null,
   "metadata": {},
   "outputs": [
    {
     "name": "stdout",
     "output_type": "stream",
     "text": [
      "[[], [], [], [], [], [], [], [], [], [], [10], [], [], [], [], [], [], [], [], [], [10, 20], [], [], [], [], [], [], [], [], [], [10, 20, 30], [], [], [], [], [], [], [], [], [], [], [], [], [], [], [], [], [], [], [], [10, 20, 30, 50]]\n",
      "4\n",
      "10 20 30 50\n"
     ]
    }
   ],
   "source": [
    "N = int(input())\n",
    "M = list(map(int, input().split()))\n",
    "A = [[] for _ in range(max(M)+1)]\n",
    "for i in M:   \n",
    "    A[i] = max(A[:i], key= lambda x : len(x)) + [i]\n",
    "B = max(A, key = lambda x : len(x))  \n",
    "print(len(B))\n",
    "print(*B)"
   ]
  },
  {
   "cell_type": "code",
   "execution_count": null,
   "metadata": {},
   "outputs": [],
   "source": [
    "6\n",
    "10 20 10 30 20 50"
   ]
  },
  {
   "cell_type": "code",
   "execution_count": 49,
   "metadata": {},
   "outputs": [
    {
     "name": "stdout",
     "output_type": "stream",
     "text": [
      "[[0], [0], [0], [0], [0]]\n"
     ]
    }
   ],
   "source": [
    "a = [[0]]*5\n",
    "print(a)"
   ]
  },
  {
   "cell_type": "code",
   "execution_count": null,
   "metadata": {},
   "outputs": [
    {
     "name": "stdout",
     "output_type": "stream",
     "text": [
      "[4, 5, 2, 6, 5]\n",
      "[7, 5, 2, 6, 5]\n",
      "[7, 12, 2, 6, 5]\n",
      "[7, 12, 10, 6, 5]\n",
      "[7, 12, 10, 10, 5]\n",
      "[20, 12, 10, 10, 5]\n",
      "[20, 13, 10, 10, 5]\n",
      "[20, 13, 10, 10, 5]\n",
      "[23, 13, 10, 10, 5]\n",
      "[23, 21, 10, 10, 5]\n"
     ]
    },
    {
     "data": {
      "text/plain": [
       "30"
      ]
     },
     "execution_count": 17,
     "metadata": {},
     "output_type": "execute_result"
    }
   ],
   "source": [
    "def solution(a):\n",
    "    b = a[-1]\n",
    "    for i in range(len(a)-2,-1,-1):\n",
    "        for j in range(len(a[i])):\n",
    "            b[j] = a[i][j] + max(b[j],b[j+1])\n",
    "    return b[0]\n",
    "\n",
    "\n",
    "N = int(input())\n",
    "a = [[]]*N\n",
    "for i in range(N):\n",
    "    a[i] = list(map(int, input().split()))\n",
    "print(solution(a))"
   ]
  },
  {
   "cell_type": "code",
   "execution_count": null,
   "metadata": {},
   "outputs": [],
   "source": [
    "7\n",
    "3 8\n",
    "8 1 0\n",
    "2 7 4 4\n",
    "4 5 2 6 5"
   ]
  },
  {
   "cell_type": "code",
   "execution_count": null,
   "metadata": {},
   "outputs": [
    {
     "name": "stdout",
     "output_type": "stream",
     "text": [
      "[[7], [3, 8], [8, 1, 0], [2, 7], []]\n",
      "[[7], [10, 8], [8, 1, 0], [2, 7], []]\n",
      "[[7], [10, 15], [8, 1, 0], [2, 7], []]\n",
      "[[7], [10, 15], [18, 1, 0], [2, 7], []]\n",
      "[[7], [10, 15], [18, 16, 0], [2, 7], []]\n",
      "[[7], [10, 15], [18, 16, 15], [2, 7], []]\n",
      "[[7], [10, 15], [18, 16, 15], [20, 7], []]\n",
      "[[7], [10, 15], [18, 16, 15], [20, 25], []]\n"
     ]
    },
    {
     "ename": "IndexError",
     "evalue": "list index out of range",
     "output_type": "error",
     "traceback": [
      "\u001b[1;31m---------------------------------------------------------------------------\u001b[0m",
      "\u001b[1;31mIndexError\u001b[0m                                Traceback (most recent call last)",
      "Cell \u001b[1;32mIn[43], line 19\u001b[0m\n\u001b[0;32m     17\u001b[0m \u001b[38;5;28;01mfor\u001b[39;00m i \u001b[38;5;129;01min\u001b[39;00m \u001b[38;5;28mrange\u001b[39m(N):\n\u001b[0;32m     18\u001b[0m     a\u001b[38;5;241m.\u001b[39mappend(\u001b[38;5;28mlist\u001b[39m(\u001b[38;5;28mmap\u001b[39m(\u001b[38;5;28mint\u001b[39m, \u001b[38;5;28minput\u001b[39m()\u001b[38;5;241m.\u001b[39msplit())))\n\u001b[1;32m---> 19\u001b[0m \u001b[43msolution\u001b[49m\u001b[43m(\u001b[49m\u001b[43ma\u001b[49m\u001b[43m)\u001b[49m\n",
      "Cell \u001b[1;32mIn[43], line 11\u001b[0m, in \u001b[0;36msolution\u001b[1;34m(a)\u001b[0m\n\u001b[0;32m      9\u001b[0m             b[i][j] \u001b[38;5;241m+\u001b[39m\u001b[38;5;241m=\u001b[39m b[i\u001b[38;5;241m-\u001b[39m\u001b[38;5;241m1\u001b[39m][j\u001b[38;5;241m-\u001b[39m\u001b[38;5;241m1\u001b[39m]\n\u001b[0;32m     10\u001b[0m         \u001b[38;5;28;01melse\u001b[39;00m:\n\u001b[1;32m---> 11\u001b[0m             \u001b[43mb\u001b[49m\u001b[43m[\u001b[49m\u001b[43mi\u001b[49m\u001b[43m]\u001b[49m\u001b[43m[\u001b[49m\u001b[43mj\u001b[49m\u001b[43m]\u001b[49m \u001b[38;5;241m+\u001b[39m\u001b[38;5;241m=\u001b[39m \u001b[38;5;28mmax\u001b[39m(b[i\u001b[38;5;241m-\u001b[39m\u001b[38;5;241m1\u001b[39m][j\u001b[38;5;241m-\u001b[39m\u001b[38;5;241m1\u001b[39m],b[i\u001b[38;5;241m-\u001b[39m\u001b[38;5;241m1\u001b[39m][j])\n\u001b[0;32m     12\u001b[0m \u001b[38;5;28;01mreturn\u001b[39;00m \u001b[38;5;28mmax\u001b[39m(b[N\u001b[38;5;241m-\u001b[39m\u001b[38;5;241m1\u001b[39m])\n",
      "\u001b[1;31mIndexError\u001b[0m: list index out of range"
     ]
    }
   ],
   "source": [
    "def solution(a):\n",
    "    b = a   \n",
    "    for i in range(1,N):\n",
    "        for j in range(0,i+1):\n",
    "            print(b)\n",
    "            if j == 0:\n",
    "                b[i][j] += b[i-1][j]\n",
    "            elif j == i:\n",
    "                b[i][j] += b[i-1][j-1]\n",
    "            else:\n",
    "                b[i][j] += max(b[i-1][j-1],b[i-1][j])\n",
    "    return max(b[N-1])\n",
    "\n",
    "\n",
    "N = int(input())\n",
    "a = []\n",
    "for i in range(N):\n",
    "    a.append(list(map(int, input().split())))\n",
    "print(solution(a))"
   ]
  },
  {
   "cell_type": "code",
   "execution_count": null,
   "metadata": {},
   "outputs": [],
   "source": [
    "10 5 4 2 1\n",
    "10 9 3 1\n",
    "    "
   ]
  },
  {
   "cell_type": "code",
   "execution_count": 12,
   "metadata": {},
   "outputs": [
    {
     "name": "stdout",
     "output_type": "stream",
     "text": [
      "1\n"
     ]
    }
   ],
   "source": [
    "N = int(input())\n",
    "A = [0]*(10**6+1)\n",
    "for i in range(2,N+1):\n",
    "    A[i] = A[i-1] + 1\n",
    "    if i%2 == 0:\n",
    "        A[i] = min(A[i],A[i//2] + 1)\n",
    "    if i%3 == 0:\n",
    "        A[i] = min(A[i],A[i//3] + 1)\n",
    "\n",
    "print(A[N])\n",
    "    "
   ]
  },
  {
   "cell_type": "code",
   "execution_count": null,
   "metadata": {},
   "outputs": [],
   "source": [
    "print(\"|\\\\_/|\")\n",
    "print(\"|q p|   /}\")\n",
    "print(\"( 0 )\\\"\\\"\\\"\\\\\")\n",
    "print(\"|\\\"^\\\"`    |\")\n",
    "print(\"||_/=\\\\\\\\__|\")"
   ]
  },
  {
   "cell_type": "code",
   "execution_count": null,
   "metadata": {},
   "outputs": [
    {
     "name": "stdout",
     "output_type": "stream",
     "text": [
      "[0, 9, 17, 32, 61]\n",
      "61\n"
     ]
    }
   ],
   "source": [
    "N = int(input())\n",
    "A = [0, 9] + [0]*(N-1)\n",
    "B = [1] + [0]*(N) \n",
    "for i in range(2,N+1):\n",
    "    if i%2 == 0:\n",
    "        a = 2*B[i-1]\n",
    "    if i%3 == 0:\n",
    "        a \n",
    "\n",
    "\n",
    "    A[i] = 2*A[i-1] + a\n",
    "\n",
    "print(A)\n",
    "print(A[N]%(10**9))\n"
   ]
  },
  {
   "cell_type": "code",
   "execution_count": null,
   "metadata": {},
   "outputs": [
    {
     "name": "stdout",
     "output_type": "stream",
     "text": [
      "104\n"
     ]
    }
   ],
   "source": [
    "18   - 1\n",
    "34   - 2\n",
    "64   - 3\n",
    "122  - 6\n",
    "232  - 10\n",
    "444 -  20"
   ]
  },
  {
   "cell_type": "code",
   "execution_count": 123,
   "metadata": {},
   "outputs": [
    {
     "name": "stdout",
     "output_type": "stream",
     "text": [
      "424\n"
     ]
    }
   ],
   "source": [
    "N = int(input())\n",
    "A = [[0 for i in range(10)] for j in range(101)]\n",
    "\n",
    "for i in range(1, 10):\n",
    "    A[1][i] = 1\n",
    "for i in range(2, N+1):\n",
    "    for j in range(10):\n",
    "        if j == 0:\n",
    "            A[i][j] = A[i-1][1]\n",
    "        elif j == 9:\n",
    "            A[i][j] = A[i-1][8]\n",
    "        else:\n",
    "            A[i][j] = A[i-1][j-1] + A[i-1][j+1]\n",
    "print(sum(A[N])%1000000000)"
   ]
  },
  {
   "cell_type": "code",
   "execution_count": null,
   "metadata": {},
   "outputs": [
    {
     "name": "stdout",
     "output_type": "stream",
     "text": [
      "[0, 0]\n",
      "[0, 1, 1, 2, 3, 5]\n",
      "5\n"
     ]
    }
   ],
   "source": [
    "def fibo(N):\n",
    "  for i in range(2,N+1):\n",
    "    A[i] = A[i-1] + A[i-2] \n",
    "\n",
    "\n",
    "   \n",
    "N = int(input())\n",
    "A = [0, 1]+ [0]*(N-1)\n",
    "B = [0,0]\n",
    "num(N)\n",
    "print(B)\n",
    "print(A)\n",
    "print(A[N])"
   ]
  },
  {
   "cell_type": "code",
   "execution_count": 61,
   "metadata": {},
   "outputs": [
    {
     "name": "stdout",
     "output_type": "stream",
     "text": [
      "1 0\n",
      "0 1\n",
      "1 2\n"
     ]
    }
   ],
   "source": [
    "def fiboZERO(N):\n",
    "    a, b = 0, 1\n",
    "    if N == 1:\n",
    "      return 0\n",
    "    else:\n",
    "      for _ in range(3,N+1):\n",
    "        a, b = b, a+b\n",
    "      return b\n",
    "def fiboONE(N):\n",
    "    a, b = 1, 1\n",
    "    if N == 0:\n",
    "       return 0\n",
    "    else:\n",
    "      for _ in range(3,N+1):\n",
    "        a, b = b, a+b\n",
    "      return b\n",
    "    \n",
    "M = int(input())\n",
    "for i in range(M):\n",
    "  N = int(input())\n",
    "  print(fiboZERO(N), fiboONE(N))"
   ]
  },
  {
   "cell_type": "code",
   "execution_count": 194,
   "metadata": {},
   "outputs": [
    {
     "name": "stdout",
     "output_type": "stream",
     "text": [
      "7\n"
     ]
    }
   ],
   "source": [
    "N = int(input())\n",
    "M = list(map(int, input().split()))\n",
    "A = [1]*(N)\n",
    "C = [1]*(N)\n",
    "for i in range(0, N):\n",
    "    for j in  range(0,i):\n",
    "        if M[i] > M[j]:\n",
    "          A[i] = max(A[i],A[j]+1)\n",
    "\n",
    "\n",
    "for k in range(N,-1,-1):\n",
    "    for w in range(N-1,k,-1):\n",
    "        if M[k] > M[w]:\n",
    "           C[k] = max(C[k],C[w]+1)\n",
    "B = [0]*N\n",
    "for f in range(N):\n",
    "    B[f] = A[f] + C[f] - 1\n",
    "print(max(B))\n",
    "    "
   ]
  },
  {
   "cell_type": "code",
   "execution_count": null,
   "metadata": {},
   "outputs": [],
   "source": [
    "10\n",
    "1 5 2 1 4 3 4 5 2 1"
   ]
  },
  {
   "cell_type": "code",
   "execution_count": null,
   "metadata": {},
   "outputs": [],
   "source": [
    "1 6 5 4 3 2 "
   ]
  },
  {
   "cell_type": "code",
   "execution_count": null,
   "metadata": {},
   "outputs": [],
   "source": [
    "1 - 1\n",
    "2 - 2\n",
    "3 - 4\n",
    "4 - 7\n",
    "5 - 1 1 1 1 1, 2 1 1 1 * 4 , 2 2 1 * 3, 3 1 1 * 3, 3 2 * 2  = 13\n",
    "6 - 1 1 1 1 1 1, 2 1 1 1 1 * 5, 2 2 1 1 6, 2 2 2 1 , 3 1 1 1 4 , 3 2 1 6 , 3 3 1,  24\n",
    "7 44"
   ]
  },
  {
   "cell_type": "code",
   "execution_count": 19,
   "metadata": {},
   "outputs": [
    {
     "name": "stdout",
     "output_type": "stream",
     "text": [
      "13\n",
      "24\n"
     ]
    }
   ],
   "source": [
    "def solution(A):\n",
    "  for i in range(3,A+1):\n",
    "    B[i] = B[i-1] + B[i-2] + B[i-3]\n",
    "  return B[A]\n",
    "\n",
    "\n",
    "\n",
    "N = int(input())\n",
    "for _ in range(N):\n",
    "    A = int(input())\n",
    "    B = [1, 1, 2] + [0]*(A-2)\n",
    "    print(solution(A))"
   ]
  },
  {
   "cell_type": "code",
   "execution_count": null,
   "metadata": {},
   "outputs": [],
   "source": [
    "1 = 1\n",
    "2 = 2\n",
    "3 = 100 001 111 3\n",
    "4 = 5\n",
    "5 = 00111 00001 11100 11001 10011 10000 00100 11111 8"
   ]
  },
  {
   "cell_type": "code",
   "execution_count": 13,
   "metadata": {},
   "outputs": [
    {
     "name": "stdout",
     "output_type": "stream",
     "text": [
      "8\n"
     ]
    }
   ],
   "source": [
    "def solution(A):\n",
    "  for i in range(3,A+1):\n",
    "    B[i] = (B[i-1] + B[i-2])%15746\n",
    "  return B[A]\n",
    "\n",
    "\n",
    "\n",
    "\n",
    "A = int(input())\n",
    "B = [0, 1, 2] + [0]*(A-2)\n",
    "print(solution(A))"
   ]
  },
  {
   "cell_type": "code",
   "execution_count": null,
   "metadata": {},
   "outputs": [
    {
     "name": "stdout",
     "output_type": "stream",
     "text": [
      "[[2, 3, -1, 2, 6, 2, 8, 13, 8, 9], [0, 0, 0, 0, 0, 0, 0, 0, 0], [0, 0, 0, 0, 0, 0, 0, 0], [0, 0, 0, 0, 0, 0, 0], [0, 0, 0, 0, 0, 0], [0, 0, 0, 0, 0], [0, 0, 0, 0], [0, 0, 0], [0, 0], [0]]\n",
      "[[2, 3, -1, 2, 6, 2, 8, 13, 8, 9], [1, -3, 0, 4, 0, 6, 11, 6, 7], [0, 0, 0, 0, 0, 0, 0, 0], [0, 0, 0, 0, 0, 0, 0], [0, 0, 0, 0, 0, 0], [0, 0, 0, 0, 0], [0, 0, 0, 0], [0, 0, 0], [0, 0], [0]]\n",
      "[[2, 3, -1, 2, 6, 2, 8, 13, 8, 9], [1, -3, 0, 4, 0, 6, 11, 6, 7], [-4, -1, 3, -1, 5, 10, 5, 6], [0, 0, 0, 0, 0, 0, 0], [0, 0, 0, 0, 0, 0], [0, 0, 0, 0, 0], [0, 0, 0, 0], [0, 0, 0], [0, 0], [0]]\n",
      "[[2, 3, -1, 2, 6, 2, 8, 13, 8, 9], [1, -3, 0, 4, 0, 6, 11, 6, 7], [-4, -1, 3, -1, 5, 10, 5, 6], [3, 7, 3, 9, 14, 9, 10], [0, 0, 0, 0, 0, 0], [0, 0, 0, 0, 0], [0, 0, 0, 0], [0, 0, 0], [0, 0], [0]]\n",
      "[[2, 3, -1, 2, 6, 2, 8, 13, 8, 9], [1, -3, 0, 4, 0, 6, 11, 6, 7], [-4, -1, 3, -1, 5, 10, 5, 6], [3, 7, 3, 9, 14, 9, 10], [4, 0, 6, 11, 6, 7], [0, 0, 0, 0, 0], [0, 0, 0, 0], [0, 0, 0], [0, 0], [0]]\n",
      "[[2, 3, -1, 2, 6, 2, 8, 13, 8, 9], [1, -3, 0, 4, 0, 6, 11, 6, 7], [-4, -1, 3, -1, 5, 10, 5, 6], [3, 7, 3, 9, 14, 9, 10], [4, 0, 6, 11, 6, 7], [-4, 2, 7, 2, 3], [0, 0, 0, 0], [0, 0, 0], [0, 0], [0]]\n",
      "[[2, 3, -1, 2, 6, 2, 8, 13, 8, 9], [1, -3, 0, 4, 0, 6, 11, 6, 7], [-4, -1, 3, -1, 5, 10, 5, 6], [3, 7, 3, 9, 14, 9, 10], [4, 0, 6, 11, 6, 7], [-4, 2, 7, 2, 3], [6, 11, 6, 7], [0, 0, 0], [0, 0], [0]]\n",
      "[[2, 3, -1, 2, 6, 2, 8, 13, 8, 9], [1, -3, 0, 4, 0, 6, 11, 6, 7], [-4, -1, 3, -1, 5, 10, 5, 6], [3, 7, 3, 9, 14, 9, 10], [4, 0, 6, 11, 6, 7], [-4, 2, 7, 2, 3], [6, 11, 6, 7], [5, 0, 1], [0, 0], [0]]\n",
      "[[2, 3, -1, 2, 6, 2, 8, 13, 8, 9], [1, -3, 0, 4, 0, 6, 11, 6, 7], [-4, -1, 3, -1, 5, 10, 5, 6], [3, 7, 3, 9, 14, 9, 10], [4, 0, 6, 11, 6, 7], [-4, 2, 7, 2, 3], [6, 11, 6, 7], [5, 0, 1], [-5, -4], [0]]\n",
      "[[2, 3, -1, 2, 6, 2, 8, 13, 8, 9], [1, -3, 0, 4, 0, 6, 11, 6, 7], [-4, -1, 3, -1, 5, 10, 5, 6], [3, 7, 3, 9, 14, 9, 10], [4, 0, 6, 11, 6, 7], [-4, 2, 7, 2, 3], [6, 11, 6, 7], [5, 0, 1], [-5, -4], [1]]\n",
      "[[2, 3, -1, 2, 6, 2, 8, 13, 8, 9], [1, -3, 0, 4, 0, 6, 11, 6, 7], [-4, -1, 3, -1, 5, 10, 5, 6], [3, 7, 3, 9, 14, 9, 10], [4, 0, 6, 11, 6, 7], [-4, 2, 7, 2, 3], [6, 11, 6, 7], [5, 0, 1], [-5, -4], [1]]\n",
      "14\n"
     ]
    }
   ],
   "source": [
    "N = int(input())\n",
    "M = list(map(int, input().split()))\n",
    "A = [[0] * i for i in range(N,0,-1)]\n",
    "A[0][0] = M[0]\n",
    "for i in range(1, N):\n",
    "    A[0][i] = A[0][i-1] + M[i]\n",
    "    \n",
    "for j in range(1,N+1):\n",
    "    for k in range(0,len(A[j-1])-1):\n",
    "        A[j][k] = A[j-1][k+1] - M[j-1]\n",
    "        \n",
    "print(max(max(r) for r in A))\n"
   ]
  },
  {
   "cell_type": "code",
   "execution_count": 86,
   "metadata": {},
   "outputs": [
    {
     "name": "stdout",
     "output_type": "stream",
     "text": [
      "33\n"
     ]
    }
   ],
   "source": [
    "N = int(input())\n",
    "M = list(map(int, input().split()))\n",
    "\n",
    "A = [0] * N  \n",
    "A[0] = M[0]\n",
    "\n",
    "for i in range(1, N):\n",
    "    A[i] = A[i-1] + M[i]\n",
    "\n",
    "min_pre = 0 \n",
    "max_sum = A[0]\n",
    "\n",
    "for j in range(N):\n",
    "    max_sum = max(max_sum, A[j] - min_pre)\n",
    "    min_pre = min(min_pre, A[j])\n",
    "\n",
    "print(max_sum)\n",
    "\n"
   ]
  },
  {
   "cell_type": "code",
   "execution_count": null,
   "metadata": {},
   "outputs": [],
   "source": [
    "10\n",
    "10 -4 3 1 5 6 -35 12 21 -1"
   ]
  },
  {
   "cell_type": "code",
   "execution_count": 60,
   "metadata": {},
   "outputs": [
    {
     "name": "stdout",
     "output_type": "stream",
     "text": [
      "[[0, 0, 0, 0, 0, 0, 0, 0, 0, 0], [0, 0, 0, 0, 0, 0, 0, 0, 0], [0, 0, 0, 0, 0, 0, 0, 0], [0, 0, 0, 0, 0, 0, 0], [0, 0, 0, 0, 0, 0], [0, 0, 0, 0, 0], [0, 0, 0, 0], [0, 0, 0], [0, 0], [0]]\n"
     ]
    }
   ],
   "source": [
    "A = [[0] * i for i in range(N,0,-1)]\n",
    "print(A)"
   ]
  },
  {
   "cell_type": "code",
   "execution_count": 46,
   "metadata": {},
   "outputs": [
    {
     "name": "stdout",
     "output_type": "stream",
     "text": [
      "100\n"
     ]
    }
   ],
   "source": [
    "a = [[99,3,5],[100,2,1],[5,1,5]]\n",
    "print(max(max(a)))"
   ]
  },
  {
   "cell_type": "code",
   "execution_count": 6,
   "metadata": {},
   "outputs": [
    {
     "name": "stdout",
     "output_type": "stream",
     "text": [
      "1\n",
      "1\n",
      "0\n",
      "0\n",
      "1\n"
     ]
    }
   ],
   "source": [
    "N = int(input())\n",
    "A = list(map(int, input().split()))\n",
    "M = int(input())\n",
    "B = list(map(int, input().split()))\n",
    "A.sort()\n",
    "\n",
    "for i in B:\n",
    "    First, Last = 0, N-1\n",
    "    Find = False\n",
    "\n",
    "    while First <= Last:\n",
    "        Mid = (First + Last)//2\n",
    "        if i == A[Mid]:\n",
    "              Find = True\n",
    "              print(1)\n",
    "              break\n",
    "        elif i > A[Mid]:\n",
    "             First = Mid + 1\n",
    "        else:\n",
    "             Last = Mid - 1\n",
    "    \n",
    "    if not Find:\n",
    "         print(0)\n",
    "              \n",
    "            \n"
   ]
  },
  {
   "cell_type": "code",
   "execution_count": null,
   "metadata": {},
   "outputs": [],
   "source": [
    "5\n",
    "4 1 5 2 3\n",
    "5\n",
    "1 3 7 9 5"
   ]
  },
  {
   "cell_type": "code",
   "execution_count": 2,
   "metadata": {},
   "outputs": [
    {
     "name": "stdout",
     "output_type": "stream",
     "text": [
      "1 0 0 1 1 0 0 1 "
     ]
    }
   ],
   "source": [
    "N = int(input())\n",
    "A = list(map(int, input().split()))\n",
    "M = int(input())\n",
    "B = list(map(int, input().split()))\n",
    "A.sort()\n",
    "\n",
    "for i in B:\n",
    "    First, Last = 0, N-1\n",
    "    Find = False\n",
    "\n",
    "    while First <= Last:\n",
    "        Mid = (First + Last)//2\n",
    "        if i == A[Mid]:\n",
    "              Find = True\n",
    "              print(1, end=' ')\n",
    "              break\n",
    "        elif i > A[Mid]:\n",
    "             First = Mid + 1\n",
    "        else:\n",
    "             Last = Mid - 1\n",
    "    \n",
    "    if not Find:\n",
    "         print(0, end=' ')"
   ]
  },
  {
   "cell_type": "code",
   "execution_count": 3,
   "metadata": {},
   "outputs": [
    {
     "name": "stdout",
     "output_type": "stream",
     "text": [
      "1 0 0 1 1 0 0 1 "
     ]
    }
   ],
   "source": [
    "N = int(input())\n",
    "A = set(map(int, input().split()))\n",
    "M = int(input())\n",
    "B = list(map(int, input().split()))\n",
    "\n",
    "for i in B:\n",
    "    if i in A:\n",
    "        print(1, end=' ')\n",
    "    else:\n",
    "        print(0, end=' ') "
   ]
  },
  {
   "cell_type": "code",
   "execution_count": null,
   "metadata": {},
   "outputs": [
    {
     "name": "stdout",
     "output_type": "stream",
     "text": [
      "1 0 0 1 1 0 0 1 "
     ]
    }
   ],
   "source": [
    "import bisect\n",
    "\n",
    "N = int(input())\n",
    "A = list(map(int, input().split()))\n",
    "M = int(input())\n",
    "B = list(map(int, input().split()))\n",
    "A.sort()\n",
    "\n",
    "for i in B:\n",
    "    if A[bisect.bisect(A,i)-1]==i:\n",
    "        print(1, end=' ')\n",
    "    else:\n",
    "        print(0, end=' ')\n",
    "\n",
    "\n"
   ]
  },
  {
   "cell_type": "code",
   "execution_count": 5,
   "metadata": {},
   "outputs": [
    {
     "name": "stdout",
     "output_type": "stream",
     "text": [
      "1 0 0 1 1 0 0 1 "
     ]
    }
   ],
   "source": [
    "import bisect\n",
    "from bisect import bisect_right, bisect_left\n",
    "\n",
    "N = int(input())\n",
    "A = list(map(int, input().split()))\n",
    "M = int(input())\n",
    "B = list(map(int, input().split()))\n",
    "A.sort()\n",
    "\n",
    "for x in B:\n",
    "    right_index = bisect_right(A, x)\n",
    "    left_index = bisect_left(A, x)\n",
    "    if right_index > left_index:\n",
    "        print(1, end=' ')\n",
    "    else: \n",
    "        print(0, end=' ')"
   ]
  },
  {
   "cell_type": "code",
   "execution_count": null,
   "metadata": {},
   "outputs": [],
   "source": [
    "5\n",
    "6 3 2 10 -10\n",
    "8\n",
    "10 9 -5 2 3 4 5 -10"
   ]
  },
  {
   "cell_type": "code",
   "execution_count": null,
   "metadata": {},
   "outputs": [
    {
     "name": "stdout",
     "output_type": "stream",
     "text": [
      "1\n"
     ]
    }
   ],
   "source": [
    "N, M = map(int, input().split())\n",
    "Z = (100*M)//N\n",
    "Start = 0\n",
    "T = X\n",
    "X_1 = 0\n",
    "if Z>=99:\n",
    "    print(-1)\n",
    "else:\n",
    "    while Start <= T: \n",
    "        mid=(Start+T)//2 \n",
    "\n",
    "        if (100*(M+mid))//(N+mid) <= Z:\n",
    "            Start=mid+1 \n",
    "\n",
    "        else: \n",
    "            X_1=mid \n",
    "            T=mid-1\n",
    "\n",
    "    print(X_1)"
   ]
  },
  {
   "cell_type": "code",
   "execution_count": null,
   "metadata": {},
   "outputs": [
    {
     "name": "stdout",
     "output_type": "stream",
     "text": [
      "6\n"
     ]
    }
   ],
   "source": [
    "N, M = map(int, input().split())\n",
    "\n",
    "Z = (100*M)//N\n",
    "T = ((Z+1)*N - 100*M)/((99)-Z)\n",
    "\n",
    "if Z>=99:\n",
    "    print(-1)\n",
    "else:\n",
    "    if T > int(T):\n",
    "      print((int(T)+1))\n",
    "    else:\n",
    "      print(T)"
   ]
  },
  {
   "cell_type": "code",
   "execution_count": null,
   "metadata": {},
   "outputs": [],
   "source": [
    "if T > int(T):\n",
    "  print(T)\n",
    "else:\n",
    "  print(\"none\")"
   ]
  },
  {
   "cell_type": "code",
   "execution_count": null,
   "metadata": {},
   "outputs": [
    {
     "name": "stdout",
     "output_type": "stream",
     "text": [
      "3\n",
      "0\n",
      "0\n",
      "1\n",
      "2\n",
      "0\n",
      "0\n",
      "2\n"
     ]
    }
   ],
   "source": [
    "import bisect\n",
    "import sys\n",
    "\n",
    "N = int(sys.stdin.readline())\n",
    "A = list(map(int, sys.stdin.readline().split()))\n",
    "M = int(sys.stdin.readline())\n",
    "B = list(map(int, sys.stdin.readline().split()))\n",
    "A.sort()\n",
    "C = 0\n",
    "for i in B:\n",
    "  for j in A:\n",
    "    if A[bisect.bisect(A,j)-1]==i:\n",
    "      C += 1\n",
    "  print(C, end=\" \")\n",
    "  C = 0\n"
   ]
  },
  {
   "cell_type": "code",
   "execution_count": null,
   "metadata": {},
   "outputs": [],
   "source": [
    "10\n",
    "6 3 2 10 10 10 -10 -10 7 3\n",
    "8\n",
    "10 9 -5 2 3 4 5 -10"
   ]
  },
  {
   "cell_type": "code",
   "execution_count": 3,
   "metadata": {},
   "outputs": [
    {
     "name": "stdout",
     "output_type": "stream",
     "text": [
      "3 0 0 1 2 0 0 2 "
     ]
    }
   ],
   "source": [
    "import bisect\n",
    "import sys\n",
    "\n",
    "N = int(input())\n",
    "A = list(map(int, input().split()))\n",
    "M = int(input())\n",
    "B = list(map(int, input().split()))\n",
    "A.sort()\n",
    "C = {}\n",
    "\n",
    "for i in A:\n",
    "  if i not in C:\n",
    "    C[i] = 1\n",
    "  else:\n",
    "    C[i] += 1\n",
    "\n",
    "\n",
    "for j in B:\n",
    "    if A[bisect.bisect(A,j)-1]==j:\n",
    "        print(C[j], end=' ')\n",
    "    else:\n",
    "        print(0, end=' ')\n"
   ]
  },
  {
   "cell_type": "code",
   "execution_count": null,
   "metadata": {},
   "outputs": [],
   "source": [
    "import sys\n",
    "import bisect\n",
    "\n",
    "n, m = map(int, sys.stdin.readline().split())\n",
    "system = []\n",
    "\n",
    "for i in range(n):\n",
    "    name, standard = sys.stdin.readline().split()\n",
    "    system.append((int(standard), name))\n",
    "\n",
    "system.sort()\n",
    "\n",
    "\n",
    "powers = [s[0] for s in system]\n",
    "\n",
    "for j in range(m):\n",
    "    target = int(sys.stdin.readline())\n",
    "    \n",
    "\n",
    "    idx = bisect.bisect_left(powers, target)\n",
    "    \n",
    "    if idx >= len(system): \n",
    "        print(system[-1][1]) \n",
    "    elif powers[idx] == target:  \n",
    "\n",
    "        while idx < len(system) - 1 and powers[idx + 1] == target:\n",
    "            idx += 1\n",
    "        print(system[idx][1])\n",
    "    else:  \n",
    "        if idx == 0: \n",
    "            print(system[0][1])\n",
    "        else:\n",
    "            print(system[idx - 1][1]) \n"
   ]
  },
  {
   "cell_type": "code",
   "execution_count": null,
   "metadata": {},
   "outputs": [],
   "source": [
    "3 8\n",
    "WEAK 10000\n",
    "NORMAL 100000\n",
    "STRONG 1000000\n",
    "0\n",
    "9999\n",
    "10000\n",
    "10001\n",
    "50000\n",
    "100000\n",
    "500000\n",
    "1000000"
   ]
  },
  {
   "cell_type": "code",
   "execution_count": 16,
   "metadata": {},
   "outputs": [
    {
     "name": "stdout",
     "output_type": "stream",
     "text": [
      "strong\n"
     ]
    }
   ],
   "source": [
    "c = {'week':1, 'strong':2}\n",
    "K = list(c.keys())\n",
    "print(K[1])"
   ]
  },
  {
   "cell_type": "code",
   "execution_count": 4,
   "metadata": {},
   "outputs": [
    {
     "name": "stdout",
     "output_type": "stream",
     "text": [
      "WEAK\n",
      "WEAK\n",
      "WEAK\n",
      "NORMAL\n",
      "NORMAL\n",
      "NORMAL\n",
      "STRONG\n",
      "STRONG\n"
     ]
    }
   ],
   "source": [
    "import bisect\n",
    "\n",
    "N, M = map(int, input().split())\n",
    "\n",
    "cha = []\n",
    "for i in range(N):\n",
    "    co, po = input().split()\n",
    "    cha.append((int(po), co))\n",
    "\n",
    "cha.sort()\n",
    "powers = [char[0] for char in cha]\n",
    "\n",
    "for _ in range(M):\n",
    "    query_power = int(input())\n",
    "    \n",
    "    idx = bisect.bisect_left(powers, query_power)\n",
    "    \n",
    "    if idx >= len(cha):\n",
    "        print(cha[-1][1]) \n",
    "    else:\n",
    "        print(cha[idx][1])\n"
   ]
  },
  {
   "cell_type": "code",
   "execution_count": 2,
   "metadata": {},
   "outputs": [
    {
     "name": "stdout",
     "output_type": "stream",
     "text": [
      "4\n"
     ]
    }
   ],
   "source": [
    "A, B = input().strip(), input().strip()\n",
    "N, M = len(A), len(B)\n",
    "\n",
    "C = [[0]*(M+1) for _ in range(N+1)]\n",
    "\n",
    "for i in range(1,N+1):\n",
    "    for j in range(1,M+1):\n",
    "        if A[i-1] == B[j-1]:\n",
    "            C[i][j] = C[i-1][j-1] + 1\n",
    "        else:\n",
    "            C[i][j] = max(C[i-1][j], C[i][j-1])\n",
    "print(C[-1][-1])"
   ]
  },
  {
   "cell_type": "code",
   "execution_count": null,
   "metadata": {},
   "outputs": [],
   "source": [
    "ACAYKP\n",
    "CAPCAK"
   ]
  },
  {
   "cell_type": "code",
   "execution_count": 1,
   "metadata": {},
   "outputs": [
    {
     "ename": "ValueError",
     "evalue": "invalid literal for int() with base 10: 'sdfasd'",
     "output_type": "error",
     "traceback": [
      "\u001b[1;31m---------------------------------------------------------------------------\u001b[0m",
      "\u001b[1;31mValueError\u001b[0m                                Traceback (most recent call last)",
      "Cell \u001b[1;32mIn[1], line 26\u001b[0m\n\u001b[0;32m     22\u001b[0m                 visited[i] \u001b[38;5;241m=\u001b[39m \u001b[38;5;28;01mTrue\u001b[39;00m\n\u001b[0;32m     23\u001b[0m                 queue\u001b[38;5;241m.\u001b[39mappend(i)\n\u001b[1;32m---> 26\u001b[0m N, M, V \u001b[38;5;241m=\u001b[39m \u001b[38;5;28mmap\u001b[39m(\u001b[38;5;28mint\u001b[39m, \u001b[38;5;28minput\u001b[39m()\u001b[38;5;241m.\u001b[39msplit())\n\u001b[0;32m     27\u001b[0m graph \u001b[38;5;241m=\u001b[39m [[] \u001b[38;5;28;01mfor\u001b[39;00m _ \u001b[38;5;129;01min\u001b[39;00m \u001b[38;5;28mrange\u001b[39m(N \u001b[38;5;241m+\u001b[39m \u001b[38;5;241m1\u001b[39m)]\n\u001b[0;32m     29\u001b[0m \u001b[38;5;28;01mfor\u001b[39;00m _ \u001b[38;5;129;01min\u001b[39;00m \u001b[38;5;28mrange\u001b[39m(M):\n",
      "\u001b[1;31mValueError\u001b[0m: invalid literal for int() with base 10: 'sdfasd'"
     ]
    }
   ],
   "source": [
    "from collections import deque\n",
    "\n",
    "\n",
    "def dfs(start):\n",
    "    visited[start] = True\n",
    "    print(start, end=\" \")\n",
    "\n",
    "    for i in graph[start]:\n",
    "        if not visited[i]:\n",
    "            dfs(i)\n",
    "\n",
    "\n",
    "def bfs(start):\n",
    "    queue = deque([start])\n",
    "    visited[start] = True\n",
    "    while queue:\n",
    "\n",
    "        v = queue.popleft()\n",
    "        print(v, end=\" \")\n",
    "        for i in graph[v]:\n",
    "            if not visited[i]:\n",
    "                visited[i] = True\n",
    "                queue.append(i)\n",
    "\n",
    "\n",
    "N, M, V = map(int, input().split())\n",
    "graph = [[] for _ in range(N + 1)]\n",
    "\n",
    "for _ in range(M):\n",
    "    a, b = map(int, input().split())\n",
    "    graph[a].append(b)\n",
    "    graph[b].append(a)\n",
    "\n",
    "\n",
    "for i in graph:\n",
    "    i.sort()\n",
    "\n",
    "\n",
    "visited = [False] * (N + 1)\n",
    "dfs(V)\n",
    "print()\n",
    "\n",
    "\n",
    "visited = [False] * (N + 1)\n",
    "bfs(V)"
   ]
  },
  {
   "cell_type": "code",
   "execution_count": 1,
   "metadata": {},
   "outputs": [
    {
     "name": "stdout",
     "output_type": "stream",
     "text": [
      "2050\n",
      "3200\n"
     ]
    }
   ],
   "source": [
    "N = int(input())\n",
    "for _ in range(N):\n",
    "  A, B, X = map(int, input().split())\n",
    "  W = A*(X-1) + B\n",
    "  print(W)"
   ]
  },
  {
   "cell_type": "code",
   "execution_count": null,
   "metadata": {},
   "outputs": [],
   "source": [
    "2\n",
    "500 550 4\n",
    "450 500 7"
   ]
  },
  {
   "cell_type": "code",
   "execution_count": null,
   "metadata": {},
   "outputs": [],
   "source": [
    "# 벡터 저장소\n",
    "vector_store = project_client.agents.create_vector_store_and_poll(\n",
    "    data_sources=[\n",
    "        {\n",
    "            \"type\": \"folder\",\n",
    "            \"uri\": \"azureml://datastores/workspaceblobstore/paths/pdf/\"\n",
    "        }\n",
    "    ],\n",
    "    name=\"AgentVectorStore_50861\"\n",
    ")\n",
    "\n",
    "# AI Search\n",
    "ai_search = AzureAISearchTool(\n",
    "    index_connection_id=\"/subscriptions/<your-subscription-id>/resourceGroups/<your-resource-group>/providers/Microsoft.MachineLearningServices/workspaces/<your-project-name>/connections/<your-azure-ai-search-connection-name>\",\n",
    "    index_name=\"mslearn\",\n",
    "    query_type=AzureAISearchQueryType.SIMPLE\n",
    ")\n",
    "\n",
    "\n",
    "file_search_tool = FileSearchTool(vector_store_ids=[vector_store.id])\n",
    "\n",
    "# agent1\n",
    "agent1 = project_client.agents.create_agent(\n",
    "    model=\"your_model_name\",\n",
    "    name=\"Search\",\n",
    "    instructions=\"지침.\",\n",
    "    tools=[ai_search.definitions] + file_search_tool.definitions,\n",
    "    tool_resources={\n",
    "        \"FileSearch\": FileSearchToolResource(vector_store_ids=[vector_store.id])\n",
    "    } | ai_search.resources\n",
    ")\n"
   ]
  },
  {
   "cell_type": "code",
   "execution_count": null,
   "metadata": {},
   "outputs": [
    {
     "name": "stdout",
     "output_type": "stream",
     "text": [
      "1000\n"
     ]
    }
   ],
   "source": [
    "A, P, S = map(int, input().split())\n",
    "M = max(A+S, P)\n",
    "print(M)\n"
   ]
  },
  {
   "cell_type": "code",
   "execution_count": 2,
   "metadata": {},
   "outputs": [
    {
     "name": "stdout",
     "output_type": "stream",
     "text": [
      "[2, 2, 75]\n"
     ]
    }
   ],
   "source": [
    "A = list(map(int, input().split()))\n",
    "C = list(map(int, input().split()))\n",
    "B = [C[0]-A[2], C[1]//A[1], C[2]-A[0]]\n",
    "print(B)\n",
    "\n"
   ]
  },
  {
   "cell_type": "code",
   "execution_count": null,
   "metadata": {},
   "outputs": [],
   "source": [
    "15 16 17\n",
    "19 32 90"
   ]
  },
  {
   "cell_type": "code",
   "execution_count": 1,
   "metadata": {},
   "outputs": [
    {
     "ename": "SyntaxError",
     "evalue": "invalid syntax. Perhaps you forgot a comma? (593793782.py, line 1)",
     "output_type": "error",
     "traceback": [
      "\u001b[1;36m  Cell \u001b[1;32mIn[1], line 1\u001b[1;36m\u001b[0m\n\u001b[1;33m    print(강한친구 대한육군군)\u001b[0m\n\u001b[1;37m          ^\u001b[0m\n\u001b[1;31mSyntaxError\u001b[0m\u001b[1;31m:\u001b[0m invalid syntax. Perhaps you forgot a comma?\n"
     ]
    }
   ],
   "source": [
    "print(강한친구 대한육군군)"
   ]
  }
 ],
 "metadata": {
  "kernelspec": {
   "display_name": "Python 3",
   "language": "python",
   "name": "python3"
  },
  "language_info": {
   "codemirror_mode": {
    "name": "ipython",
    "version": 3
   },
   "file_extension": ".py",
   "mimetype": "text/x-python",
   "name": "python",
   "nbconvert_exporter": "python",
   "pygments_lexer": "ipython3",
   "version": "3.13.1"
  }
 },
 "nbformat": 4,
 "nbformat_minor": 2
}
