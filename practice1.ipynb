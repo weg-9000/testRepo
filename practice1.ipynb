{
 "cells": [
  {
   "cell_type": "code",
   "execution_count": 3,
   "metadata": {},
   "outputs": [],
   "source": [
    "class MyClass:\n",
    "    def __init__(self,value):\n",
    "        self.value = value"
   ]
  },
  {
   "cell_type": "code",
   "execution_count": 4,
   "metadata": {},
   "outputs": [
    {
     "name": "stdout",
     "output_type": "stream",
     "text": [
      "10\n"
     ]
    }
   ],
   "source": [
    "obj = MyClass(10)\n",
    "print(obj.value)\n"
   ]
  },
  {
   "cell_type": "code",
   "execution_count": 7,
   "metadata": {},
   "outputs": [],
   "source": [
    "class MyClass:\n",
    "    def __init__(self, value):\n",
    "        self.value = value\n",
    "        \n",
    "    def display(self):\n",
    "        print(f'value: {self.value}')\n"
   ]
  },
  {
   "cell_type": "code",
   "execution_count": 8,
   "metadata": {},
   "outputs": [
    {
     "name": "stdout",
     "output_type": "stream",
     "text": [
      "value: 10\n"
     ]
    }
   ],
   "source": [
    "obj = MyClass(10)\n",
    "obj.display()\n"
   ]
  },
  {
   "cell_type": "code",
   "execution_count": 9,
   "metadata": {},
   "outputs": [
    {
     "name": "stdout",
     "output_type": "stream",
     "text": [
      "derived value: 10\n"
     ]
    }
   ],
   "source": [
    "class BassClass:\n",
    "    def __init__(self,value):\n",
    "        self.value = value\n",
    "\n",
    "    def display(self):\n",
    "        print(f'Base Value: {self.value}')\n",
    "\n",
    "class derivedclass(BassClass):\n",
    "    def display(self):\n",
    "        print(f'derived value: {self.value}')\n",
    "\n",
    "obj = derivedclass(10)\n",
    "obj.display()\n"
   ]
  },
  {
   "cell_type": "code",
   "execution_count": 11,
   "metadata": {},
   "outputs": [
    {
     "name": "stdout",
     "output_type": "stream",
     "text": [
      "i am a class variable\n",
      "10\n"
     ]
    }
   ],
   "source": [
    "class MyClass:\n",
    "    class_variable = 'i am a class variable'\n",
    "    def __init__(self,value):\n",
    "        self.instance_variable = value\n",
    "\n",
    "obj = MyClass(10)\n",
    "print(MyClass.class_variable)\n",
    "print(obj.instance_variable)"
   ]
  },
  {
   "cell_type": "markdown",
   "metadata": {},
   "source": [
    "## 객체 지향 프로그래밍 OOP"
   ]
  },
  {
   "cell_type": "code",
   "execution_count": 13,
   "metadata": {},
   "outputs": [
    {
     "name": "stdout",
     "output_type": "stream",
     "text": [
      "10\n",
      "20\n"
     ]
    }
   ],
   "source": [
    "class MyClass:\n",
    "    def __init__(self,value):\n",
    "        self.__value = value\n",
    "\n",
    "    def get_value(self):\n",
    "        return self.__value\n",
    "    \n",
    "    def set_value(self,value):\n",
    "        self.__value = value\n",
    "\n",
    "obj = MyClass(10)\n",
    "print(obj.get_value())\n",
    "obj.set_value(20)\n",
    "print(obj.get_value())\n",
    "\n"
   ]
  },
  {
   "cell_type": "code",
   "execution_count": 16,
   "metadata": {},
   "outputs": [
    {
     "name": "stdout",
     "output_type": "stream",
     "text": [
      "maru says woof\n",
      "nayang says meow\n"
     ]
    }
   ],
   "source": [
    "class animal:\n",
    "    def __init__(self, name):\n",
    "        self.name = name\n",
    "    def speak(self):\n",
    "        pass\n",
    "\n",
    "class dog(animal):\n",
    "    def speak(self):\n",
    "        return f'{self.name} says woof'\n",
    "    \n",
    "class cat(animal):\n",
    "    def speak(self):\n",
    "        return f'{self.name} says meow'\n",
    "\n",
    "Dog = dog('maru')\n",
    "Cat = cat('nayang')\n",
    "print(Dog.speak())\n",
    "print(Cat.speak())\n"
   ]
  },
  {
   "cell_type": "code",
   "execution_count": 20,
   "metadata": {},
   "outputs": [
    {
     "name": "stdout",
     "output_type": "stream",
     "text": [
      "50\n",
      "28.26\n"
     ]
    }
   ],
   "source": [
    "class Shape:\n",
    "    def area(self):\n",
    "        pass\n",
    "\n",
    "class Rectangle(Shape):\n",
    "    def __init__(self,width,hegiht):\n",
    "        self.width = width\n",
    "        self.height = hegiht\n",
    "\n",
    "    def area(self):\n",
    "        return self.width * self.height\n",
    "class Circle(Shape):\n",
    "    def __init__(self,radious):\n",
    "        self.radious = radious\n",
    "\n",
    "    def area(self):\n",
    "        return 3.14 * self.radious**2\n",
    "    \n",
    "shapes = [Rectangle(5,10),Circle(3)]\n",
    "for shape in shapes:\n",
    "    print(shape.area())"
   ]
  },
  {
   "cell_type": "code",
   "execution_count": null,
   "metadata": {},
   "outputs": [],
   "source": []
  },
  {
   "cell_type": "code",
   "execution_count": null,
   "metadata": {},
   "outputs": [],
   "source": []
  },
  {
   "cell_type": "code",
   "execution_count": null,
   "metadata": {},
   "outputs": [],
   "source": []
  }
 ],
 "metadata": {
  "kernelspec": {
   "display_name": "Python 3",
   "language": "python",
   "name": "python3"
  },
  "language_info": {
   "codemirror_mode": {
    "name": "ipython",
    "version": 3
   },
   "file_extension": ".py",
   "mimetype": "text/x-python",
   "name": "python",
   "nbconvert_exporter": "python",
   "pygments_lexer": "ipython3",
   "version": "3.13.1"
  }
 },
 "nbformat": 4,
 "nbformat_minor": 2
}
